{
 "cells": [
  {
   "cell_type": "markdown",
   "metadata": {},
   "source": [
    "# Régression Linéaire et Modèles Backward, Forward et Stepwise"
   ]
  },
  {
   "cell_type": "markdown",
   "metadata": {},
   "source": [
    "## Importation des modules et chargement des données"
   ]
  },
  {
   "cell_type": "code",
   "execution_count": 116,
   "metadata": {},
   "outputs": [],
   "source": [
    "import numpy as np # Pour les calculs mathématiques\n",
    "import matplotlib.pyplot as plt # Pour les graphiques\n",
    "import pandas as pd # Pour la manipulation de tableaux de données\n",
    "\n",
    "import scipy.stats as scy # Pour les lois de probabilités et des tests statistiques\n",
    "import itertools\n",
    "import statsmodels.api as sm\n",
    "\n",
    "from statsmodels.api import OLS # Pour la régression linéaire (avec statsmodels)\n",
    "from statsmodels.stats.outliers_influence import variance_inflation_factor # Pour les VIF\n",
    "from statsmodels.tools.tools import add_constant # Pour l'ajout d'une constante dans statsmodels\n",
    "from statsmodels.stats.api import het_breuschpagan # Pour le test de Breusch-Pagan\n",
    "\n",
    "\n",
    "from sklearn.linear_model import LinearRegression # Pour la régression linéaire (avec sklearn)\n",
    "from sklearn.preprocessing import PolynomialFeatures # Pour le \"feature engineering\" polynomial\n",
    "from sklearn.metrics import mean_squared_error, mean_absolute_percentage_error # Pour les critères d'erreur"
   ]
  },
  {
   "cell_type": "code",
   "execution_count": 117,
   "metadata": {},
   "outputs": [],
   "source": [
    "data = pd.read_csv('Data/train_cleaned.csv')"
   ]
  },
  {
   "cell_type": "markdown",
   "metadata": {},
   "source": [
    "## Régression Linéaire Multiple"
   ]
  },
  {
   "cell_type": "code",
   "execution_count": 118,
   "metadata": {},
   "outputs": [],
   "source": [
    "# Calcul des AIC et BIC\n",
    "\n",
    "def AIC_BIC_linreg(X, y, features):\n",
    "    linreg_model = OLS(y, X[list(features)])\n",
    "    linreg = linreg_model.fit()\n",
    "    AIC = linreg.aic\n",
    "    BIC = linreg.bic\n",
    "    return {'model':linreg, 'AIC':AIC, 'BIC':BIC}"
   ]
  },
  {
   "cell_type": "code",
   "execution_count": 119,
   "metadata": {},
   "outputs": [],
   "source": [
    "var_Y= 'prix'\n",
    "Y = data[var_Y]\n",
    "\n",
    "var_X_comp = ['nb_chambres', 'nb_sdb', 'm2_interieur', 'm2_jardin', 'm2_etage', 'm2_soussol', 'nb_etages', 'vue_mer', 'vue_note', 'etat_note', 'design_note', 'annee_construction', 'annee_renovation', 'm2_interieur_15voisins', 'm2_jardin_15voisins', 'zipcode', 'lat', 'long']\n",
    "X_comp = data[var_X_comp]"
   ]
  },
  {
   "cell_type": "code",
   "execution_count": 120,
   "metadata": {},
   "outputs": [
    {
     "data": {
      "text/html": [
       "<table class=\"simpletable\">\n",
       "<caption>OLS Regression Results</caption>\n",
       "<tr>\n",
       "  <th>Dep. Variable:</th>          <td>prix</td>       <th>  R-squared:         </th>  <td>   0.693</td>  \n",
       "</tr>\n",
       "<tr>\n",
       "  <th>Model:</th>                   <td>OLS</td>       <th>  Adj. R-squared:    </th>  <td>   0.693</td>  \n",
       "</tr>\n",
       "<tr>\n",
       "  <th>Method:</th>             <td>Least Squares</td>  <th>  F-statistic:       </th>  <td>   2019.</td>  \n",
       "</tr>\n",
       "<tr>\n",
       "  <th>Date:</th>             <td>Wed, 03 Apr 2024</td> <th>  Prob (F-statistic):</th>   <td>  0.00</td>   \n",
       "</tr>\n",
       "<tr>\n",
       "  <th>Time:</th>                 <td>19:34:20</td>     <th>  Log-Likelihood:    </th> <td>-2.1700e+05</td>\n",
       "</tr>\n",
       "<tr>\n",
       "  <th>No. Observations:</th>      <td> 16112</td>      <th>  AIC:               </th>  <td>4.340e+05</td> \n",
       "</tr>\n",
       "<tr>\n",
       "  <th>Df Residuals:</th>          <td> 16093</td>      <th>  BIC:               </th>  <td>4.342e+05</td> \n",
       "</tr>\n",
       "<tr>\n",
       "  <th>Df Model:</th>              <td>    18</td>      <th>                     </th>      <td> </td>     \n",
       "</tr>\n",
       "<tr>\n",
       "  <th>Covariance Type:</th>      <td>nonrobust</td>    <th>                     </th>      <td> </td>     \n",
       "</tr>\n",
       "</table>\n",
       "<table class=\"simpletable\">\n",
       "<tr>\n",
       "             <td></td>               <th>coef</th>     <th>std err</th>      <th>t</th>      <th>P>|t|</th>  <th>[0.025</th>    <th>0.975]</th>  \n",
       "</tr>\n",
       "<tr>\n",
       "  <th>const</th>                  <td> 3.736e+06</td> <td> 2.91e+06</td> <td>    1.283</td> <td> 0.199</td> <td>-1.97e+06</td> <td> 9.44e+06</td>\n",
       "</tr>\n",
       "<tr>\n",
       "  <th>nb_chambres</th>            <td>-2.041e+04</td> <td> 2076.303</td> <td>   -9.831</td> <td> 0.000</td> <td>-2.45e+04</td> <td>-1.63e+04</td>\n",
       "</tr>\n",
       "<tr>\n",
       "  <th>nb_sdb</th>                 <td> 3.314e+04</td> <td> 3317.098</td> <td>    9.991</td> <td> 0.000</td> <td> 2.66e+04</td> <td> 3.96e+04</td>\n",
       "</tr>\n",
       "<tr>\n",
       "  <th>m2_interieur</th>           <td> 2504.0769</td> <td> 4017.598</td> <td>    0.623</td> <td> 0.533</td> <td>-5370.862</td> <td> 1.04e+04</td>\n",
       "</tr>\n",
       "<tr>\n",
       "  <th>m2_jardin</th>              <td>    1.4642</td> <td>    1.439</td> <td>    1.017</td> <td> 0.309</td> <td>   -1.357</td> <td>    4.286</td>\n",
       "</tr>\n",
       "<tr>\n",
       "  <th>m2_etage</th>               <td>-1136.6096</td> <td> 4014.186</td> <td>   -0.283</td> <td> 0.777</td> <td>-9004.861</td> <td> 6731.642</td>\n",
       "</tr>\n",
       "<tr>\n",
       "  <th>m2_soussol</th>             <td>-1318.3283</td> <td> 4037.333</td> <td>   -0.327</td> <td> 0.744</td> <td>-9231.950</td> <td> 6595.293</td>\n",
       "</tr>\n",
       "<tr>\n",
       "  <th>nb_etages</th>              <td> 1.672e+04</td> <td> 3654.194</td> <td>    4.577</td> <td> 0.000</td> <td> 9561.949</td> <td> 2.39e+04</td>\n",
       "</tr>\n",
       "<tr>\n",
       "  <th>vue_mer</th>                <td> 4.463e+05</td> <td> 1.82e+04</td> <td>   24.482</td> <td> 0.000</td> <td> 4.11e+05</td> <td> 4.82e+05</td>\n",
       "</tr>\n",
       "<tr>\n",
       "  <th>vue_note</th>               <td>  6.03e+04</td> <td> 2415.843</td> <td>   24.960</td> <td> 0.000</td> <td> 5.56e+04</td> <td>  6.5e+04</td>\n",
       "</tr>\n",
       "<tr>\n",
       "  <th>etat_note</th>              <td> 3.412e+04</td> <td> 2419.746</td> <td>   14.099</td> <td> 0.000</td> <td> 2.94e+04</td> <td> 3.89e+04</td>\n",
       "</tr>\n",
       "<tr>\n",
       "  <th>design_note</th>            <td> 1.037e+05</td> <td> 2237.988</td> <td>   46.344</td> <td> 0.000</td> <td> 9.93e+04</td> <td> 1.08e+05</td>\n",
       "</tr>\n",
       "<tr>\n",
       "  <th>annee_construction</th>     <td>-2391.0532</td> <td>   73.150</td> <td>  -32.687</td> <td> 0.000</td> <td>-2534.435</td> <td>-2247.671</td>\n",
       "</tr>\n",
       "<tr>\n",
       "  <th>annee_renovation</th>       <td>   24.8119</td> <td>    3.594</td> <td>    6.904</td> <td> 0.000</td> <td>   17.767</td> <td>   31.856</td>\n",
       "</tr>\n",
       "<tr>\n",
       "  <th>m2_interieur_15voisins</th> <td>  448.9974</td> <td>   38.666</td> <td>   11.612</td> <td> 0.000</td> <td>  373.208</td> <td>  524.787</td>\n",
       "</tr>\n",
       "<tr>\n",
       "  <th>m2_jardin_15voisins</th>    <td>  -13.6780</td> <td>    2.215</td> <td>   -6.176</td> <td> 0.000</td> <td>  -18.019</td> <td>   -9.337</td>\n",
       "</tr>\n",
       "<tr>\n",
       "  <th>zipcode</th>                <td> -497.7332</td> <td>   32.421</td> <td>  -15.352</td> <td> 0.000</td> <td> -561.282</td> <td> -434.185</td>\n",
       "</tr>\n",
       "<tr>\n",
       "  <th>lat</th>                    <td> 6.044e+05</td> <td> 1.06e+04</td> <td>   57.112</td> <td> 0.000</td> <td> 5.84e+05</td> <td> 6.25e+05</td>\n",
       "</tr>\n",
       "<tr>\n",
       "  <th>long</th>                   <td>-1.659e+05</td> <td> 1.34e+04</td> <td>  -12.411</td> <td> 0.000</td> <td>-1.92e+05</td> <td> -1.4e+05</td>\n",
       "</tr>\n",
       "</table>\n",
       "<table class=\"simpletable\">\n",
       "<tr>\n",
       "  <th>Omnibus:</th>       <td>8461.089</td> <th>  Durbin-Watson:     </th>  <td>   2.018</td> \n",
       "</tr>\n",
       "<tr>\n",
       "  <th>Prob(Omnibus):</th>  <td> 0.000</td>  <th>  Jarque-Bera (JB):  </th> <td>140513.914</td>\n",
       "</tr>\n",
       "<tr>\n",
       "  <th>Skew:</th>           <td> 2.142</td>  <th>  Prob(JB):          </th>  <td>    0.00</td> \n",
       "</tr>\n",
       "<tr>\n",
       "  <th>Kurtosis:</th>       <td>16.818</td>  <th>  Cond. No.          </th>  <td>2.12e+08</td> \n",
       "</tr>\n",
       "</table><br/><br/>Notes:<br/>[1] Standard Errors assume that the covariance matrix of the errors is correctly specified.<br/>[2] The condition number is large, 2.12e+08. This might indicate that there are<br/>strong multicollinearity or other numerical problems."
      ],
      "text/latex": [
       "\\begin{center}\n",
       "\\begin{tabular}{lclc}\n",
       "\\toprule\n",
       "\\textbf{Dep. Variable:}           &       prix       & \\textbf{  R-squared:         } &      0.693   \\\\\n",
       "\\textbf{Model:}                   &       OLS        & \\textbf{  Adj. R-squared:    } &      0.693   \\\\\n",
       "\\textbf{Method:}                  &  Least Squares   & \\textbf{  F-statistic:       } &      2019.   \\\\\n",
       "\\textbf{Date:}                    & Wed, 03 Apr 2024 & \\textbf{  Prob (F-statistic):} &      0.00    \\\\\n",
       "\\textbf{Time:}                    &     19:34:20     & \\textbf{  Log-Likelihood:    } & -2.1700e+05  \\\\\n",
       "\\textbf{No. Observations:}        &       16112      & \\textbf{  AIC:               } &  4.340e+05   \\\\\n",
       "\\textbf{Df Residuals:}            &       16093      & \\textbf{  BIC:               } &  4.342e+05   \\\\\n",
       "\\textbf{Df Model:}                &          18      & \\textbf{                     } &              \\\\\n",
       "\\textbf{Covariance Type:}         &    nonrobust     & \\textbf{                     } &              \\\\\n",
       "\\bottomrule\n",
       "\\end{tabular}\n",
       "\\begin{tabular}{lcccccc}\n",
       "                                  & \\textbf{coef} & \\textbf{std err} & \\textbf{t} & \\textbf{P$> |$t$|$} & \\textbf{[0.025} & \\textbf{0.975]}  \\\\\n",
       "\\midrule\n",
       "\\textbf{const}                    &    3.736e+06  &     2.91e+06     &     1.283  &         0.199        &    -1.97e+06    &     9.44e+06     \\\\\n",
       "\\textbf{nb\\_chambres}             &   -2.041e+04  &     2076.303     &    -9.831  &         0.000        &    -2.45e+04    &    -1.63e+04     \\\\\n",
       "\\textbf{nb\\_sdb}                  &    3.314e+04  &     3317.098     &     9.991  &         0.000        &     2.66e+04    &     3.96e+04     \\\\\n",
       "\\textbf{m2\\_interieur}            &    2504.0769  &     4017.598     &     0.623  &         0.533        &    -5370.862    &     1.04e+04     \\\\\n",
       "\\textbf{m2\\_jardin}               &       1.4642  &        1.439     &     1.017  &         0.309        &       -1.357    &        4.286     \\\\\n",
       "\\textbf{m2\\_etage}                &   -1136.6096  &     4014.186     &    -0.283  &         0.777        &    -9004.861    &     6731.642     \\\\\n",
       "\\textbf{m2\\_soussol}              &   -1318.3283  &     4037.333     &    -0.327  &         0.744        &    -9231.950    &     6595.293     \\\\\n",
       "\\textbf{nb\\_etages}               &    1.672e+04  &     3654.194     &     4.577  &         0.000        &     9561.949    &     2.39e+04     \\\\\n",
       "\\textbf{vue\\_mer}                 &    4.463e+05  &     1.82e+04     &    24.482  &         0.000        &     4.11e+05    &     4.82e+05     \\\\\n",
       "\\textbf{vue\\_note}                &     6.03e+04  &     2415.843     &    24.960  &         0.000        &     5.56e+04    &      6.5e+04     \\\\\n",
       "\\textbf{etat\\_note}               &    3.412e+04  &     2419.746     &    14.099  &         0.000        &     2.94e+04    &     3.89e+04     \\\\\n",
       "\\textbf{design\\_note}             &    1.037e+05  &     2237.988     &    46.344  &         0.000        &     9.93e+04    &     1.08e+05     \\\\\n",
       "\\textbf{annee\\_construction}      &   -2391.0532  &       73.150     &   -32.687  &         0.000        &    -2534.435    &    -2247.671     \\\\\n",
       "\\textbf{annee\\_renovation}        &      24.8119  &        3.594     &     6.904  &         0.000        &       17.767    &       31.856     \\\\\n",
       "\\textbf{m2\\_interieur\\_15voisins} &     448.9974  &       38.666     &    11.612  &         0.000        &      373.208    &      524.787     \\\\\n",
       "\\textbf{m2\\_jardin\\_15voisins}    &     -13.6780  &        2.215     &    -6.176  &         0.000        &      -18.019    &       -9.337     \\\\\n",
       "\\textbf{zipcode}                  &    -497.7332  &       32.421     &   -15.352  &         0.000        &     -561.282    &     -434.185     \\\\\n",
       "\\textbf{lat}                      &    6.044e+05  &     1.06e+04     &    57.112  &         0.000        &     5.84e+05    &     6.25e+05     \\\\\n",
       "\\textbf{long}                     &   -1.659e+05  &     1.34e+04     &   -12.411  &         0.000        &    -1.92e+05    &     -1.4e+05     \\\\\n",
       "\\bottomrule\n",
       "\\end{tabular}\n",
       "\\begin{tabular}{lclc}\n",
       "\\textbf{Omnibus:}       & 8461.089 & \\textbf{  Durbin-Watson:     } &     2.018   \\\\\n",
       "\\textbf{Prob(Omnibus):} &   0.000  & \\textbf{  Jarque-Bera (JB):  } & 140513.914  \\\\\n",
       "\\textbf{Skew:}          &   2.142  & \\textbf{  Prob(JB):          } &      0.00   \\\\\n",
       "\\textbf{Kurtosis:}      &  16.818  & \\textbf{  Cond. No.          } &  2.12e+08   \\\\\n",
       "\\bottomrule\n",
       "\\end{tabular}\n",
       "%\\caption{OLS Regression Results}\n",
       "\\end{center}\n",
       "\n",
       "Notes: \\newline\n",
       " [1] Standard Errors assume that the covariance matrix of the errors is correctly specified. \\newline\n",
       " [2] The condition number is large, 2.12e+08. This might indicate that there are \\newline\n",
       " strong multicollinearity or other numerical problems."
      ],
      "text/plain": [
       "<class 'statsmodels.iolib.summary.Summary'>\n",
       "\"\"\"\n",
       "                            OLS Regression Results                            \n",
       "==============================================================================\n",
       "Dep. Variable:                   prix   R-squared:                       0.693\n",
       "Model:                            OLS   Adj. R-squared:                  0.693\n",
       "Method:                 Least Squares   F-statistic:                     2019.\n",
       "Date:                Wed, 03 Apr 2024   Prob (F-statistic):               0.00\n",
       "Time:                        19:34:20   Log-Likelihood:            -2.1700e+05\n",
       "No. Observations:               16112   AIC:                         4.340e+05\n",
       "Df Residuals:                   16093   BIC:                         4.342e+05\n",
       "Df Model:                          18                                         \n",
       "Covariance Type:            nonrobust                                         \n",
       "==========================================================================================\n",
       "                             coef    std err          t      P>|t|      [0.025      0.975]\n",
       "------------------------------------------------------------------------------------------\n",
       "const                   3.736e+06   2.91e+06      1.283      0.199   -1.97e+06    9.44e+06\n",
       "nb_chambres            -2.041e+04   2076.303     -9.831      0.000   -2.45e+04   -1.63e+04\n",
       "nb_sdb                  3.314e+04   3317.098      9.991      0.000    2.66e+04    3.96e+04\n",
       "m2_interieur            2504.0769   4017.598      0.623      0.533   -5370.862    1.04e+04\n",
       "m2_jardin                  1.4642      1.439      1.017      0.309      -1.357       4.286\n",
       "m2_etage               -1136.6096   4014.186     -0.283      0.777   -9004.861    6731.642\n",
       "m2_soussol             -1318.3283   4037.333     -0.327      0.744   -9231.950    6595.293\n",
       "nb_etages               1.672e+04   3654.194      4.577      0.000    9561.949    2.39e+04\n",
       "vue_mer                 4.463e+05   1.82e+04     24.482      0.000    4.11e+05    4.82e+05\n",
       "vue_note                 6.03e+04   2415.843     24.960      0.000    5.56e+04     6.5e+04\n",
       "etat_note               3.412e+04   2419.746     14.099      0.000    2.94e+04    3.89e+04\n",
       "design_note             1.037e+05   2237.988     46.344      0.000    9.93e+04    1.08e+05\n",
       "annee_construction     -2391.0532     73.150    -32.687      0.000   -2534.435   -2247.671\n",
       "annee_renovation          24.8119      3.594      6.904      0.000      17.767      31.856\n",
       "m2_interieur_15voisins   448.9974     38.666     11.612      0.000     373.208     524.787\n",
       "m2_jardin_15voisins      -13.6780      2.215     -6.176      0.000     -18.019      -9.337\n",
       "zipcode                 -497.7332     32.421    -15.352      0.000    -561.282    -434.185\n",
       "lat                     6.044e+05   1.06e+04     57.112      0.000    5.84e+05    6.25e+05\n",
       "long                   -1.659e+05   1.34e+04    -12.411      0.000   -1.92e+05    -1.4e+05\n",
       "==============================================================================\n",
       "Omnibus:                     8461.089   Durbin-Watson:                   2.018\n",
       "Prob(Omnibus):                  0.000   Jarque-Bera (JB):           140513.914\n",
       "Skew:                           2.142   Prob(JB):                         0.00\n",
       "Kurtosis:                      16.818   Cond. No.                     2.12e+08\n",
       "==============================================================================\n",
       "\n",
       "Notes:\n",
       "[1] Standard Errors assume that the covariance matrix of the errors is correctly specified.\n",
       "[2] The condition number is large, 2.12e+08. This might indicate that there are\n",
       "strong multicollinearity or other numerical problems.\n",
       "\"\"\""
      ]
     },
     "execution_count": 120,
     "metadata": {},
     "output_type": "execute_result"
    }
   ],
   "source": [
    "linreg_comp_model = OLS(Y, add_constant(X_comp))\n",
    "linreg_comp = linreg_comp_model.fit()\n",
    "linreg_comp.summary()"
   ]
  },
  {
   "cell_type": "code",
   "execution_count": 121,
   "metadata": {},
   "outputs": [
    {
     "name": "stdout",
     "output_type": "stream",
     "text": [
      "Features of the complete model: ['const', 'nb_chambres', 'nb_sdb', 'm2_interieur', 'm2_jardin', 'm2_etage', 'm2_soussol', 'nb_etages', 'vue_mer', 'vue_note', 'etat_note', 'design_note', 'annee_construction', 'annee_renovation', 'm2_interieur_15voisins', 'm2_jardin_15voisins', 'zipcode', 'lat', 'long']\n",
      "Number of parameter of the complete model: 19\n"
     ]
    }
   ],
   "source": [
    "print('Features of the complete model:', linreg_comp.model.exog_names)\n",
    "print('Number of parameter of the complete model:', linreg_comp.params.shape[0])"
   ]
  },
  {
   "cell_type": "markdown",
   "metadata": {},
   "source": [
    "### Suppression des variables non significatives"
   ]
  },
  {
   "cell_type": "code",
   "execution_count": 122,
   "metadata": {},
   "outputs": [
    {
     "data": {
      "text/html": [
       "<table class=\"simpletable\">\n",
       "<caption>OLS Regression Results</caption>\n",
       "<tr>\n",
       "  <th>Dep. Variable:</th>          <td>prix</td>       <th>  R-squared:         </th>  <td>   0.693</td>  \n",
       "</tr>\n",
       "<tr>\n",
       "  <th>Model:</th>                   <td>OLS</td>       <th>  Adj. R-squared:    </th>  <td>   0.693</td>  \n",
       "</tr>\n",
       "<tr>\n",
       "  <th>Method:</th>             <td>Least Squares</td>  <th>  F-statistic:       </th>  <td>   2138.</td>  \n",
       "</tr>\n",
       "<tr>\n",
       "  <th>Date:</th>             <td>Wed, 03 Apr 2024</td> <th>  Prob (F-statistic):</th>   <td>  0.00</td>   \n",
       "</tr>\n",
       "<tr>\n",
       "  <th>Time:</th>                 <td>19:34:20</td>     <th>  Log-Likelihood:    </th> <td>-2.1700e+05</td>\n",
       "</tr>\n",
       "<tr>\n",
       "  <th>No. Observations:</th>      <td> 16112</td>      <th>  AIC:               </th>  <td>4.340e+05</td> \n",
       "</tr>\n",
       "<tr>\n",
       "  <th>Df Residuals:</th>          <td> 16094</td>      <th>  BIC:               </th>  <td>4.342e+05</td> \n",
       "</tr>\n",
       "<tr>\n",
       "  <th>Df Model:</th>              <td>    17</td>      <th>                     </th>      <td> </td>     \n",
       "</tr>\n",
       "<tr>\n",
       "  <th>Covariance Type:</th>      <td>nonrobust</td>    <th>                     </th>      <td> </td>     \n",
       "</tr>\n",
       "</table>\n",
       "<table class=\"simpletable\">\n",
       "<tr>\n",
       "             <td></td>               <th>coef</th>     <th>std err</th>      <th>t</th>      <th>P>|t|</th>  <th>[0.025</th>    <th>0.975]</th>  \n",
       "</tr>\n",
       "<tr>\n",
       "  <th>const</th>                  <td> 3.704e+06</td> <td> 2.91e+06</td> <td>    1.273</td> <td> 0.203</td> <td>   -2e+06</td> <td> 9.41e+06</td>\n",
       "</tr>\n",
       "<tr>\n",
       "  <th>nb_chambres</th>            <td>-2.042e+04</td> <td> 2076.004</td> <td>   -9.837</td> <td> 0.000</td> <td>-2.45e+04</td> <td>-1.64e+04</td>\n",
       "</tr>\n",
       "<tr>\n",
       "  <th>nb_sdb</th>                 <td> 3.319e+04</td> <td> 3312.498</td> <td>   10.020</td> <td> 0.000</td> <td> 2.67e+04</td> <td> 3.97e+04</td>\n",
       "</tr>\n",
       "<tr>\n",
       "  <th>m2_interieur</th>           <td> 1366.5667</td> <td>   43.099</td> <td>   31.707</td> <td> 0.000</td> <td> 1282.087</td> <td> 1451.046</td>\n",
       "</tr>\n",
       "<tr>\n",
       "  <th>m2_jardin</th>              <td>    1.4670</td> <td>    1.439</td> <td>    1.019</td> <td> 0.308</td> <td>   -1.354</td> <td>    4.288</td>\n",
       "</tr>\n",
       "<tr>\n",
       "  <th>m2_soussol</th>             <td> -175.2480</td> <td>   48.690</td> <td>   -3.599</td> <td> 0.000</td> <td> -270.685</td> <td>  -79.811</td>\n",
       "</tr>\n",
       "<tr>\n",
       "  <th>nb_etages</th>              <td>  1.67e+04</td> <td> 3652.892</td> <td>    4.571</td> <td> 0.000</td> <td> 9538.010</td> <td> 2.39e+04</td>\n",
       "</tr>\n",
       "<tr>\n",
       "  <th>vue_mer</th>                <td> 4.464e+05</td> <td> 1.82e+04</td> <td>   24.484</td> <td> 0.000</td> <td> 4.11e+05</td> <td> 4.82e+05</td>\n",
       "</tr>\n",
       "<tr>\n",
       "  <th>vue_note</th>               <td> 6.029e+04</td> <td> 2415.234</td> <td>   24.960</td> <td> 0.000</td> <td> 5.56e+04</td> <td>  6.5e+04</td>\n",
       "</tr>\n",
       "<tr>\n",
       "  <th>etat_note</th>              <td> 3.411e+04</td> <td> 2419.557</td> <td>   14.098</td> <td> 0.000</td> <td> 2.94e+04</td> <td> 3.89e+04</td>\n",
       "</tr>\n",
       "<tr>\n",
       "  <th>design_note</th>            <td> 1.037e+05</td> <td> 2237.097</td> <td>   46.370</td> <td> 0.000</td> <td> 9.94e+04</td> <td> 1.08e+05</td>\n",
       "</tr>\n",
       "<tr>\n",
       "  <th>annee_construction</th>     <td>-2390.9544</td> <td>   73.147</td> <td>  -32.687</td> <td> 0.000</td> <td>-2534.331</td> <td>-2247.578</td>\n",
       "</tr>\n",
       "<tr>\n",
       "  <th>annee_renovation</th>       <td>   24.7986</td> <td>    3.593</td> <td>    6.901</td> <td> 0.000</td> <td>   17.755</td> <td>   31.842</td>\n",
       "</tr>\n",
       "<tr>\n",
       "  <th>m2_interieur_15voisins</th> <td>  449.0859</td> <td>   38.663</td> <td>   11.615</td> <td> 0.000</td> <td>  373.301</td> <td>  524.870</td>\n",
       "</tr>\n",
       "<tr>\n",
       "  <th>m2_jardin_15voisins</th>    <td>  -13.6915</td> <td>    2.214</td> <td>   -6.184</td> <td> 0.000</td> <td>  -18.031</td> <td>   -9.352</td>\n",
       "</tr>\n",
       "<tr>\n",
       "  <th>zipcode</th>                <td> -497.4840</td> <td>   32.408</td> <td>  -15.351</td> <td> 0.000</td> <td> -561.007</td> <td> -433.961</td>\n",
       "</tr>\n",
       "<tr>\n",
       "  <th>lat</th>                    <td> 6.044e+05</td> <td> 1.06e+04</td> <td>   57.118</td> <td> 0.000</td> <td> 5.84e+05</td> <td> 6.25e+05</td>\n",
       "</tr>\n",
       "<tr>\n",
       "  <th>long</th>                   <td> -1.66e+05</td> <td> 1.34e+04</td> <td>  -12.416</td> <td> 0.000</td> <td>-1.92e+05</td> <td> -1.4e+05</td>\n",
       "</tr>\n",
       "</table>\n",
       "<table class=\"simpletable\">\n",
       "<tr>\n",
       "  <th>Omnibus:</th>       <td>8458.970</td> <th>  Durbin-Watson:     </th>  <td>   2.018</td> \n",
       "</tr>\n",
       "<tr>\n",
       "  <th>Prob(Omnibus):</th>  <td> 0.000</td>  <th>  Jarque-Bera (JB):  </th> <td>140385.370</td>\n",
       "</tr>\n",
       "<tr>\n",
       "  <th>Skew:</th>           <td> 2.142</td>  <th>  Prob(JB):          </th>  <td>    0.00</td> \n",
       "</tr>\n",
       "<tr>\n",
       "  <th>Kurtosis:</th>       <td>16.812</td>  <th>  Cond. No.          </th>  <td>2.12e+08</td> \n",
       "</tr>\n",
       "</table><br/><br/>Notes:<br/>[1] Standard Errors assume that the covariance matrix of the errors is correctly specified.<br/>[2] The condition number is large, 2.12e+08. This might indicate that there are<br/>strong multicollinearity or other numerical problems."
      ],
      "text/latex": [
       "\\begin{center}\n",
       "\\begin{tabular}{lclc}\n",
       "\\toprule\n",
       "\\textbf{Dep. Variable:}           &       prix       & \\textbf{  R-squared:         } &      0.693   \\\\\n",
       "\\textbf{Model:}                   &       OLS        & \\textbf{  Adj. R-squared:    } &      0.693   \\\\\n",
       "\\textbf{Method:}                  &  Least Squares   & \\textbf{  F-statistic:       } &      2138.   \\\\\n",
       "\\textbf{Date:}                    & Wed, 03 Apr 2024 & \\textbf{  Prob (F-statistic):} &      0.00    \\\\\n",
       "\\textbf{Time:}                    &     19:34:20     & \\textbf{  Log-Likelihood:    } & -2.1700e+05  \\\\\n",
       "\\textbf{No. Observations:}        &       16112      & \\textbf{  AIC:               } &  4.340e+05   \\\\\n",
       "\\textbf{Df Residuals:}            &       16094      & \\textbf{  BIC:               } &  4.342e+05   \\\\\n",
       "\\textbf{Df Model:}                &          17      & \\textbf{                     } &              \\\\\n",
       "\\textbf{Covariance Type:}         &    nonrobust     & \\textbf{                     } &              \\\\\n",
       "\\bottomrule\n",
       "\\end{tabular}\n",
       "\\begin{tabular}{lcccccc}\n",
       "                                  & \\textbf{coef} & \\textbf{std err} & \\textbf{t} & \\textbf{P$> |$t$|$} & \\textbf{[0.025} & \\textbf{0.975]}  \\\\\n",
       "\\midrule\n",
       "\\textbf{const}                    &    3.704e+06  &     2.91e+06     &     1.273  &         0.203        &       -2e+06    &     9.41e+06     \\\\\n",
       "\\textbf{nb\\_chambres}             &   -2.042e+04  &     2076.004     &    -9.837  &         0.000        &    -2.45e+04    &    -1.64e+04     \\\\\n",
       "\\textbf{nb\\_sdb}                  &    3.319e+04  &     3312.498     &    10.020  &         0.000        &     2.67e+04    &     3.97e+04     \\\\\n",
       "\\textbf{m2\\_interieur}            &    1366.5667  &       43.099     &    31.707  &         0.000        &     1282.087    &     1451.046     \\\\\n",
       "\\textbf{m2\\_jardin}               &       1.4670  &        1.439     &     1.019  &         0.308        &       -1.354    &        4.288     \\\\\n",
       "\\textbf{m2\\_soussol}              &    -175.2480  &       48.690     &    -3.599  &         0.000        &     -270.685    &      -79.811     \\\\\n",
       "\\textbf{nb\\_etages}               &     1.67e+04  &     3652.892     &     4.571  &         0.000        &     9538.010    &     2.39e+04     \\\\\n",
       "\\textbf{vue\\_mer}                 &    4.464e+05  &     1.82e+04     &    24.484  &         0.000        &     4.11e+05    &     4.82e+05     \\\\\n",
       "\\textbf{vue\\_note}                &    6.029e+04  &     2415.234     &    24.960  &         0.000        &     5.56e+04    &      6.5e+04     \\\\\n",
       "\\textbf{etat\\_note}               &    3.411e+04  &     2419.557     &    14.098  &         0.000        &     2.94e+04    &     3.89e+04     \\\\\n",
       "\\textbf{design\\_note}             &    1.037e+05  &     2237.097     &    46.370  &         0.000        &     9.94e+04    &     1.08e+05     \\\\\n",
       "\\textbf{annee\\_construction}      &   -2390.9544  &       73.147     &   -32.687  &         0.000        &    -2534.331    &    -2247.578     \\\\\n",
       "\\textbf{annee\\_renovation}        &      24.7986  &        3.593     &     6.901  &         0.000        &       17.755    &       31.842     \\\\\n",
       "\\textbf{m2\\_interieur\\_15voisins} &     449.0859  &       38.663     &    11.615  &         0.000        &      373.301    &      524.870     \\\\\n",
       "\\textbf{m2\\_jardin\\_15voisins}    &     -13.6915  &        2.214     &    -6.184  &         0.000        &      -18.031    &       -9.352     \\\\\n",
       "\\textbf{zipcode}                  &    -497.4840  &       32.408     &   -15.351  &         0.000        &     -561.007    &     -433.961     \\\\\n",
       "\\textbf{lat}                      &    6.044e+05  &     1.06e+04     &    57.118  &         0.000        &     5.84e+05    &     6.25e+05     \\\\\n",
       "\\textbf{long}                     &    -1.66e+05  &     1.34e+04     &   -12.416  &         0.000        &    -1.92e+05    &     -1.4e+05     \\\\\n",
       "\\bottomrule\n",
       "\\end{tabular}\n",
       "\\begin{tabular}{lclc}\n",
       "\\textbf{Omnibus:}       & 8458.970 & \\textbf{  Durbin-Watson:     } &     2.018   \\\\\n",
       "\\textbf{Prob(Omnibus):} &   0.000  & \\textbf{  Jarque-Bera (JB):  } & 140385.370  \\\\\n",
       "\\textbf{Skew:}          &   2.142  & \\textbf{  Prob(JB):          } &      0.00   \\\\\n",
       "\\textbf{Kurtosis:}      &  16.812  & \\textbf{  Cond. No.          } &  2.12e+08   \\\\\n",
       "\\bottomrule\n",
       "\\end{tabular}\n",
       "%\\caption{OLS Regression Results}\n",
       "\\end{center}\n",
       "\n",
       "Notes: \\newline\n",
       " [1] Standard Errors assume that the covariance matrix of the errors is correctly specified. \\newline\n",
       " [2] The condition number is large, 2.12e+08. This might indicate that there are \\newline\n",
       " strong multicollinearity or other numerical problems."
      ],
      "text/plain": [
       "<class 'statsmodels.iolib.summary.Summary'>\n",
       "\"\"\"\n",
       "                            OLS Regression Results                            \n",
       "==============================================================================\n",
       "Dep. Variable:                   prix   R-squared:                       0.693\n",
       "Model:                            OLS   Adj. R-squared:                  0.693\n",
       "Method:                 Least Squares   F-statistic:                     2138.\n",
       "Date:                Wed, 03 Apr 2024   Prob (F-statistic):               0.00\n",
       "Time:                        19:34:20   Log-Likelihood:            -2.1700e+05\n",
       "No. Observations:               16112   AIC:                         4.340e+05\n",
       "Df Residuals:                   16094   BIC:                         4.342e+05\n",
       "Df Model:                          17                                         \n",
       "Covariance Type:            nonrobust                                         \n",
       "==========================================================================================\n",
       "                             coef    std err          t      P>|t|      [0.025      0.975]\n",
       "------------------------------------------------------------------------------------------\n",
       "const                   3.704e+06   2.91e+06      1.273      0.203      -2e+06    9.41e+06\n",
       "nb_chambres            -2.042e+04   2076.004     -9.837      0.000   -2.45e+04   -1.64e+04\n",
       "nb_sdb                  3.319e+04   3312.498     10.020      0.000    2.67e+04    3.97e+04\n",
       "m2_interieur            1366.5667     43.099     31.707      0.000    1282.087    1451.046\n",
       "m2_jardin                  1.4670      1.439      1.019      0.308      -1.354       4.288\n",
       "m2_soussol              -175.2480     48.690     -3.599      0.000    -270.685     -79.811\n",
       "nb_etages                1.67e+04   3652.892      4.571      0.000    9538.010    2.39e+04\n",
       "vue_mer                 4.464e+05   1.82e+04     24.484      0.000    4.11e+05    4.82e+05\n",
       "vue_note                6.029e+04   2415.234     24.960      0.000    5.56e+04     6.5e+04\n",
       "etat_note               3.411e+04   2419.557     14.098      0.000    2.94e+04    3.89e+04\n",
       "design_note             1.037e+05   2237.097     46.370      0.000    9.94e+04    1.08e+05\n",
       "annee_construction     -2390.9544     73.147    -32.687      0.000   -2534.331   -2247.578\n",
       "annee_renovation          24.7986      3.593      6.901      0.000      17.755      31.842\n",
       "m2_interieur_15voisins   449.0859     38.663     11.615      0.000     373.301     524.870\n",
       "m2_jardin_15voisins      -13.6915      2.214     -6.184      0.000     -18.031      -9.352\n",
       "zipcode                 -497.4840     32.408    -15.351      0.000    -561.007    -433.961\n",
       "lat                     6.044e+05   1.06e+04     57.118      0.000    5.84e+05    6.25e+05\n",
       "long                    -1.66e+05   1.34e+04    -12.416      0.000   -1.92e+05    -1.4e+05\n",
       "==============================================================================\n",
       "Omnibus:                     8458.970   Durbin-Watson:                   2.018\n",
       "Prob(Omnibus):                  0.000   Jarque-Bera (JB):           140385.370\n",
       "Skew:                           2.142   Prob(JB):                         0.00\n",
       "Kurtosis:                      16.812   Cond. No.                     2.12e+08\n",
       "==============================================================================\n",
       "\n",
       "Notes:\n",
       "[1] Standard Errors assume that the covariance matrix of the errors is correctly specified.\n",
       "[2] The condition number is large, 2.12e+08. This might indicate that there are\n",
       "strong multicollinearity or other numerical problems.\n",
       "\"\"\""
      ]
     },
     "execution_count": 122,
     "metadata": {},
     "output_type": "execute_result"
    }
   ],
   "source": [
    "# On retire m2_etage\n",
    "\n",
    "var_X_comp = ['nb_chambres', 'nb_sdb', 'm2_interieur', 'm2_jardin', 'm2_soussol', 'nb_etages', 'vue_mer', 'vue_note', 'etat_note', 'design_note', 'annee_construction', 'annee_renovation', 'm2_interieur_15voisins', 'm2_jardin_15voisins', 'zipcode', 'lat', 'long']\n",
    "X_comp = data[var_X_comp]\n",
    "linreg_comp_model = OLS(Y, add_constant(X_comp))\n",
    "linreg_comp = linreg_comp_model.fit()\n",
    "linreg_comp.summary()"
   ]
  },
  {
   "cell_type": "code",
   "execution_count": 123,
   "metadata": {},
   "outputs": [
    {
     "data": {
      "text/html": [
       "<table class=\"simpletable\">\n",
       "<caption>OLS Regression Results</caption>\n",
       "<tr>\n",
       "  <th>Dep. Variable:</th>          <td>prix</td>       <th>  R-squared:         </th>  <td>   0.693</td>  \n",
       "</tr>\n",
       "<tr>\n",
       "  <th>Model:</th>                   <td>OLS</td>       <th>  Adj. R-squared:    </th>  <td>   0.693</td>  \n",
       "</tr>\n",
       "<tr>\n",
       "  <th>Method:</th>             <td>Least Squares</td>  <th>  F-statistic:       </th>  <td>   2271.</td>  \n",
       "</tr>\n",
       "<tr>\n",
       "  <th>Date:</th>             <td>Wed, 03 Apr 2024</td> <th>  Prob (F-statistic):</th>   <td>  0.00</td>   \n",
       "</tr>\n",
       "<tr>\n",
       "  <th>Time:</th>                 <td>19:34:20</td>     <th>  Log-Likelihood:    </th> <td>-2.1700e+05</td>\n",
       "</tr>\n",
       "<tr>\n",
       "  <th>No. Observations:</th>      <td> 16112</td>      <th>  AIC:               </th>  <td>4.340e+05</td> \n",
       "</tr>\n",
       "<tr>\n",
       "  <th>Df Residuals:</th>          <td> 16095</td>      <th>  BIC:               </th>  <td>4.342e+05</td> \n",
       "</tr>\n",
       "<tr>\n",
       "  <th>Df Model:</th>              <td>    16</td>      <th>                     </th>      <td> </td>     \n",
       "</tr>\n",
       "<tr>\n",
       "  <th>Covariance Type:</th>      <td>nonrobust</td>    <th>                     </th>      <td> </td>     \n",
       "</tr>\n",
       "</table>\n",
       "<table class=\"simpletable\">\n",
       "<tr>\n",
       "             <td></td>               <th>coef</th>     <th>std err</th>      <th>t</th>      <th>P>|t|</th>  <th>[0.025</th>    <th>0.975]</th>  \n",
       "</tr>\n",
       "<tr>\n",
       "  <th>const</th>                  <td> 3.827e+06</td> <td> 2.91e+06</td> <td>    1.317</td> <td> 0.188</td> <td>-1.87e+06</td> <td> 9.53e+06</td>\n",
       "</tr>\n",
       "<tr>\n",
       "  <th>nb_chambres</th>            <td>-2.047e+04</td> <td> 2075.408</td> <td>   -9.864</td> <td> 0.000</td> <td>-2.45e+04</td> <td>-1.64e+04</td>\n",
       "</tr>\n",
       "<tr>\n",
       "  <th>nb_sdb</th>                 <td> 3.319e+04</td> <td> 3312.502</td> <td>   10.020</td> <td> 0.000</td> <td> 2.67e+04</td> <td> 3.97e+04</td>\n",
       "</tr>\n",
       "<tr>\n",
       "  <th>m2_interieur</th>           <td> 1369.7521</td> <td>   42.986</td> <td>   31.865</td> <td> 0.000</td> <td> 1285.495</td> <td> 1454.009</td>\n",
       "</tr>\n",
       "<tr>\n",
       "  <th>m2_soussol</th>             <td> -176.7302</td> <td>   48.668</td> <td>   -3.631</td> <td> 0.000</td> <td> -272.125</td> <td>  -81.335</td>\n",
       "</tr>\n",
       "<tr>\n",
       "  <th>nb_etages</th>              <td>  1.66e+04</td> <td> 3651.612</td> <td>    4.546</td> <td> 0.000</td> <td> 9441.821</td> <td> 2.38e+04</td>\n",
       "</tr>\n",
       "<tr>\n",
       "  <th>vue_mer</th>                <td> 4.461e+05</td> <td> 1.82e+04</td> <td>   24.471</td> <td> 0.000</td> <td>  4.1e+05</td> <td> 4.82e+05</td>\n",
       "</tr>\n",
       "<tr>\n",
       "  <th>vue_note</th>               <td> 6.033e+04</td> <td> 2414.771</td> <td>   24.985</td> <td> 0.000</td> <td> 5.56e+04</td> <td> 6.51e+04</td>\n",
       "</tr>\n",
       "<tr>\n",
       "  <th>etat_note</th>              <td> 3.407e+04</td> <td> 2419.269</td> <td>   14.083</td> <td> 0.000</td> <td> 2.93e+04</td> <td> 3.88e+04</td>\n",
       "</tr>\n",
       "<tr>\n",
       "  <th>design_note</th>            <td> 1.038e+05</td> <td> 2237.048</td> <td>   46.378</td> <td> 0.000</td> <td> 9.94e+04</td> <td> 1.08e+05</td>\n",
       "</tr>\n",
       "<tr>\n",
       "  <th>annee_construction</th>     <td>-2393.9416</td> <td>   73.088</td> <td>  -32.754</td> <td> 0.000</td> <td>-2537.203</td> <td>-2250.680</td>\n",
       "</tr>\n",
       "<tr>\n",
       "  <th>annee_renovation</th>       <td>   24.7926</td> <td>    3.593</td> <td>    6.899</td> <td> 0.000</td> <td>   17.749</td> <td>   31.836</td>\n",
       "</tr>\n",
       "<tr>\n",
       "  <th>m2_interieur_15voisins</th> <td>  447.1443</td> <td>   38.616</td> <td>   11.579</td> <td> 0.000</td> <td>  371.452</td> <td>  522.837</td>\n",
       "</tr>\n",
       "<tr>\n",
       "  <th>m2_jardin_15voisins</th>    <td>  -12.0799</td> <td>    1.550</td> <td>   -7.794</td> <td> 0.000</td> <td>  -15.118</td> <td>   -9.042</td>\n",
       "</tr>\n",
       "<tr>\n",
       "  <th>zipcode</th>                <td> -497.7661</td> <td>   32.407</td> <td>  -15.360</td> <td> 0.000</td> <td> -561.287</td> <td> -434.245</td>\n",
       "</tr>\n",
       "<tr>\n",
       "  <th>lat</th>                    <td> 6.041e+05</td> <td> 1.06e+04</td> <td>   57.111</td> <td> 0.000</td> <td> 5.83e+05</td> <td> 6.25e+05</td>\n",
       "</tr>\n",
       "<tr>\n",
       "  <th>long</th>                   <td>-1.654e+05</td> <td> 1.34e+04</td> <td>  -12.383</td> <td> 0.000</td> <td>-1.92e+05</td> <td>-1.39e+05</td>\n",
       "</tr>\n",
       "</table>\n",
       "<table class=\"simpletable\">\n",
       "<tr>\n",
       "  <th>Omnibus:</th>       <td>8455.123</td> <th>  Durbin-Watson:     </th>  <td>   2.018</td> \n",
       "</tr>\n",
       "<tr>\n",
       "  <th>Prob(Omnibus):</th>  <td> 0.000</td>  <th>  Jarque-Bera (JB):  </th> <td>140091.862</td>\n",
       "</tr>\n",
       "<tr>\n",
       "  <th>Skew:</th>           <td> 2.141</td>  <th>  Prob(JB):          </th>  <td>    0.00</td> \n",
       "</tr>\n",
       "<tr>\n",
       "  <th>Kurtosis:</th>       <td>16.796</td>  <th>  Cond. No.          </th>  <td>2.12e+08</td> \n",
       "</tr>\n",
       "</table><br/><br/>Notes:<br/>[1] Standard Errors assume that the covariance matrix of the errors is correctly specified.<br/>[2] The condition number is large, 2.12e+08. This might indicate that there are<br/>strong multicollinearity or other numerical problems."
      ],
      "text/latex": [
       "\\begin{center}\n",
       "\\begin{tabular}{lclc}\n",
       "\\toprule\n",
       "\\textbf{Dep. Variable:}           &       prix       & \\textbf{  R-squared:         } &      0.693   \\\\\n",
       "\\textbf{Model:}                   &       OLS        & \\textbf{  Adj. R-squared:    } &      0.693   \\\\\n",
       "\\textbf{Method:}                  &  Least Squares   & \\textbf{  F-statistic:       } &      2271.   \\\\\n",
       "\\textbf{Date:}                    & Wed, 03 Apr 2024 & \\textbf{  Prob (F-statistic):} &      0.00    \\\\\n",
       "\\textbf{Time:}                    &     19:34:20     & \\textbf{  Log-Likelihood:    } & -2.1700e+05  \\\\\n",
       "\\textbf{No. Observations:}        &       16112      & \\textbf{  AIC:               } &  4.340e+05   \\\\\n",
       "\\textbf{Df Residuals:}            &       16095      & \\textbf{  BIC:               } &  4.342e+05   \\\\\n",
       "\\textbf{Df Model:}                &          16      & \\textbf{                     } &              \\\\\n",
       "\\textbf{Covariance Type:}         &    nonrobust     & \\textbf{                     } &              \\\\\n",
       "\\bottomrule\n",
       "\\end{tabular}\n",
       "\\begin{tabular}{lcccccc}\n",
       "                                  & \\textbf{coef} & \\textbf{std err} & \\textbf{t} & \\textbf{P$> |$t$|$} & \\textbf{[0.025} & \\textbf{0.975]}  \\\\\n",
       "\\midrule\n",
       "\\textbf{const}                    &    3.827e+06  &     2.91e+06     &     1.317  &         0.188        &    -1.87e+06    &     9.53e+06     \\\\\n",
       "\\textbf{nb\\_chambres}             &   -2.047e+04  &     2075.408     &    -9.864  &         0.000        &    -2.45e+04    &    -1.64e+04     \\\\\n",
       "\\textbf{nb\\_sdb}                  &    3.319e+04  &     3312.502     &    10.020  &         0.000        &     2.67e+04    &     3.97e+04     \\\\\n",
       "\\textbf{m2\\_interieur}            &    1369.7521  &       42.986     &    31.865  &         0.000        &     1285.495    &     1454.009     \\\\\n",
       "\\textbf{m2\\_soussol}              &    -176.7302  &       48.668     &    -3.631  &         0.000        &     -272.125    &      -81.335     \\\\\n",
       "\\textbf{nb\\_etages}               &     1.66e+04  &     3651.612     &     4.546  &         0.000        &     9441.821    &     2.38e+04     \\\\\n",
       "\\textbf{vue\\_mer}                 &    4.461e+05  &     1.82e+04     &    24.471  &         0.000        &      4.1e+05    &     4.82e+05     \\\\\n",
       "\\textbf{vue\\_note}                &    6.033e+04  &     2414.771     &    24.985  &         0.000        &     5.56e+04    &     6.51e+04     \\\\\n",
       "\\textbf{etat\\_note}               &    3.407e+04  &     2419.269     &    14.083  &         0.000        &     2.93e+04    &     3.88e+04     \\\\\n",
       "\\textbf{design\\_note}             &    1.038e+05  &     2237.048     &    46.378  &         0.000        &     9.94e+04    &     1.08e+05     \\\\\n",
       "\\textbf{annee\\_construction}      &   -2393.9416  &       73.088     &   -32.754  &         0.000        &    -2537.203    &    -2250.680     \\\\\n",
       "\\textbf{annee\\_renovation}        &      24.7926  &        3.593     &     6.899  &         0.000        &       17.749    &       31.836     \\\\\n",
       "\\textbf{m2\\_interieur\\_15voisins} &     447.1443  &       38.616     &    11.579  &         0.000        &      371.452    &      522.837     \\\\\n",
       "\\textbf{m2\\_jardin\\_15voisins}    &     -12.0799  &        1.550     &    -7.794  &         0.000        &      -15.118    &       -9.042     \\\\\n",
       "\\textbf{zipcode}                  &    -497.7661  &       32.407     &   -15.360  &         0.000        &     -561.287    &     -434.245     \\\\\n",
       "\\textbf{lat}                      &    6.041e+05  &     1.06e+04     &    57.111  &         0.000        &     5.83e+05    &     6.25e+05     \\\\\n",
       "\\textbf{long}                     &   -1.654e+05  &     1.34e+04     &   -12.383  &         0.000        &    -1.92e+05    &    -1.39e+05     \\\\\n",
       "\\bottomrule\n",
       "\\end{tabular}\n",
       "\\begin{tabular}{lclc}\n",
       "\\textbf{Omnibus:}       & 8455.123 & \\textbf{  Durbin-Watson:     } &     2.018   \\\\\n",
       "\\textbf{Prob(Omnibus):} &   0.000  & \\textbf{  Jarque-Bera (JB):  } & 140091.862  \\\\\n",
       "\\textbf{Skew:}          &   2.141  & \\textbf{  Prob(JB):          } &      0.00   \\\\\n",
       "\\textbf{Kurtosis:}      &  16.796  & \\textbf{  Cond. No.          } &  2.12e+08   \\\\\n",
       "\\bottomrule\n",
       "\\end{tabular}\n",
       "%\\caption{OLS Regression Results}\n",
       "\\end{center}\n",
       "\n",
       "Notes: \\newline\n",
       " [1] Standard Errors assume that the covariance matrix of the errors is correctly specified. \\newline\n",
       " [2] The condition number is large, 2.12e+08. This might indicate that there are \\newline\n",
       " strong multicollinearity or other numerical problems."
      ],
      "text/plain": [
       "<class 'statsmodels.iolib.summary.Summary'>\n",
       "\"\"\"\n",
       "                            OLS Regression Results                            \n",
       "==============================================================================\n",
       "Dep. Variable:                   prix   R-squared:                       0.693\n",
       "Model:                            OLS   Adj. R-squared:                  0.693\n",
       "Method:                 Least Squares   F-statistic:                     2271.\n",
       "Date:                Wed, 03 Apr 2024   Prob (F-statistic):               0.00\n",
       "Time:                        19:34:20   Log-Likelihood:            -2.1700e+05\n",
       "No. Observations:               16112   AIC:                         4.340e+05\n",
       "Df Residuals:                   16095   BIC:                         4.342e+05\n",
       "Df Model:                          16                                         \n",
       "Covariance Type:            nonrobust                                         \n",
       "==========================================================================================\n",
       "                             coef    std err          t      P>|t|      [0.025      0.975]\n",
       "------------------------------------------------------------------------------------------\n",
       "const                   3.827e+06   2.91e+06      1.317      0.188   -1.87e+06    9.53e+06\n",
       "nb_chambres            -2.047e+04   2075.408     -9.864      0.000   -2.45e+04   -1.64e+04\n",
       "nb_sdb                  3.319e+04   3312.502     10.020      0.000    2.67e+04    3.97e+04\n",
       "m2_interieur            1369.7521     42.986     31.865      0.000    1285.495    1454.009\n",
       "m2_soussol              -176.7302     48.668     -3.631      0.000    -272.125     -81.335\n",
       "nb_etages                1.66e+04   3651.612      4.546      0.000    9441.821    2.38e+04\n",
       "vue_mer                 4.461e+05   1.82e+04     24.471      0.000     4.1e+05    4.82e+05\n",
       "vue_note                6.033e+04   2414.771     24.985      0.000    5.56e+04    6.51e+04\n",
       "etat_note               3.407e+04   2419.269     14.083      0.000    2.93e+04    3.88e+04\n",
       "design_note             1.038e+05   2237.048     46.378      0.000    9.94e+04    1.08e+05\n",
       "annee_construction     -2393.9416     73.088    -32.754      0.000   -2537.203   -2250.680\n",
       "annee_renovation          24.7926      3.593      6.899      0.000      17.749      31.836\n",
       "m2_interieur_15voisins   447.1443     38.616     11.579      0.000     371.452     522.837\n",
       "m2_jardin_15voisins      -12.0799      1.550     -7.794      0.000     -15.118      -9.042\n",
       "zipcode                 -497.7661     32.407    -15.360      0.000    -561.287    -434.245\n",
       "lat                     6.041e+05   1.06e+04     57.111      0.000    5.83e+05    6.25e+05\n",
       "long                   -1.654e+05   1.34e+04    -12.383      0.000   -1.92e+05   -1.39e+05\n",
       "==============================================================================\n",
       "Omnibus:                     8455.123   Durbin-Watson:                   2.018\n",
       "Prob(Omnibus):                  0.000   Jarque-Bera (JB):           140091.862\n",
       "Skew:                           2.141   Prob(JB):                         0.00\n",
       "Kurtosis:                      16.796   Cond. No.                     2.12e+08\n",
       "==============================================================================\n",
       "\n",
       "Notes:\n",
       "[1] Standard Errors assume that the covariance matrix of the errors is correctly specified.\n",
       "[2] The condition number is large, 2.12e+08. This might indicate that there are\n",
       "strong multicollinearity or other numerical problems.\n",
       "\"\"\""
      ]
     },
     "execution_count": 123,
     "metadata": {},
     "output_type": "execute_result"
    }
   ],
   "source": [
    "# On retire m2_jardin\n",
    "\n",
    "var_X_comp = ['nb_chambres', 'nb_sdb', 'm2_interieur', 'm2_soussol', 'nb_etages', 'vue_mer', 'vue_note', 'etat_note', 'design_note', 'annee_construction', 'annee_renovation', 'm2_interieur_15voisins', 'm2_jardin_15voisins', 'zipcode', 'lat', 'long']\n",
    "X_comp = data[var_X_comp]\n",
    "linreg_comp_model = OLS(Y, add_constant(X_comp))\n",
    "linreg_comp = linreg_comp_model.fit()\n",
    "linreg_comp.summary()"
   ]
  },
  {
   "cell_type": "code",
   "execution_count": 124,
   "metadata": {},
   "outputs": [
    {
     "data": {
      "text/html": [
       "<table class=\"simpletable\">\n",
       "<caption>OLS Regression Results</caption>\n",
       "<tr>\n",
       "  <th>Dep. Variable:</th>          <td>prix</td>       <th>  R-squared (uncentered):</th>       <td>   0.921</td>  \n",
       "</tr>\n",
       "<tr>\n",
       "  <th>Model:</th>                   <td>OLS</td>       <th>  Adj. R-squared (uncentered):</th>  <td>   0.921</td>  \n",
       "</tr>\n",
       "<tr>\n",
       "  <th>Method:</th>             <td>Least Squares</td>  <th>  F-statistic:       </th>           <td>1.178e+04</td> \n",
       "</tr>\n",
       "<tr>\n",
       "  <th>Date:</th>             <td>Wed, 03 Apr 2024</td> <th>  Prob (F-statistic):</th>            <td>  0.00</td>   \n",
       "</tr>\n",
       "<tr>\n",
       "  <th>Time:</th>                 <td>19:34:20</td>     <th>  Log-Likelihood:    </th>          <td>-2.1701e+05</td>\n",
       "</tr>\n",
       "<tr>\n",
       "  <th>No. Observations:</th>      <td> 16112</td>      <th>  AIC:               </th>           <td>4.340e+05</td> \n",
       "</tr>\n",
       "<tr>\n",
       "  <th>Df Residuals:</th>          <td> 16096</td>      <th>  BIC:               </th>           <td>4.342e+05</td> \n",
       "</tr>\n",
       "<tr>\n",
       "  <th>Df Model:</th>              <td>    16</td>      <th>                     </th>               <td> </td>     \n",
       "</tr>\n",
       "<tr>\n",
       "  <th>Covariance Type:</th>      <td>nonrobust</td>    <th>                     </th>               <td> </td>     \n",
       "</tr>\n",
       "</table>\n",
       "<table class=\"simpletable\">\n",
       "<tr>\n",
       "             <td></td>               <th>coef</th>     <th>std err</th>      <th>t</th>      <th>P>|t|</th>  <th>[0.025</th>    <th>0.975]</th>  \n",
       "</tr>\n",
       "<tr>\n",
       "  <th>nb_chambres</th>            <td>-2.028e+04</td> <td> 2070.208</td> <td>   -9.795</td> <td> 0.000</td> <td>-2.43e+04</td> <td>-1.62e+04</td>\n",
       "</tr>\n",
       "<tr>\n",
       "  <th>nb_sdb</th>                 <td> 3.318e+04</td> <td> 3312.571</td> <td>   10.018</td> <td> 0.000</td> <td> 2.67e+04</td> <td> 3.97e+04</td>\n",
       "</tr>\n",
       "<tr>\n",
       "  <th>m2_interieur</th>           <td> 1371.5214</td> <td>   42.966</td> <td>   31.921</td> <td> 0.000</td> <td> 1287.304</td> <td> 1455.739</td>\n",
       "</tr>\n",
       "<tr>\n",
       "  <th>m2_soussol</th>             <td> -186.5591</td> <td>   48.093</td> <td>   -3.879</td> <td> 0.000</td> <td> -280.827</td> <td>  -92.291</td>\n",
       "</tr>\n",
       "<tr>\n",
       "  <th>nb_etages</th>              <td> 1.577e+04</td> <td> 3596.640</td> <td>    4.384</td> <td> 0.000</td> <td> 8717.812</td> <td> 2.28e+04</td>\n",
       "</tr>\n",
       "<tr>\n",
       "  <th>vue_mer</th>                <td>  4.46e+05</td> <td> 1.82e+04</td> <td>   24.468</td> <td> 0.000</td> <td>  4.1e+05</td> <td> 4.82e+05</td>\n",
       "</tr>\n",
       "<tr>\n",
       "  <th>vue_note</th>               <td> 6.002e+04</td> <td> 2402.800</td> <td>   24.978</td> <td> 0.000</td> <td> 5.53e+04</td> <td> 6.47e+04</td>\n",
       "</tr>\n",
       "<tr>\n",
       "  <th>etat_note</th>              <td> 3.456e+04</td> <td> 2390.462</td> <td>   14.458</td> <td> 0.000</td> <td> 2.99e+04</td> <td> 3.92e+04</td>\n",
       "</tr>\n",
       "<tr>\n",
       "  <th>design_note</th>            <td> 1.035e+05</td> <td> 2231.712</td> <td>   46.398</td> <td> 0.000</td> <td> 9.92e+04</td> <td> 1.08e+05</td>\n",
       "</tr>\n",
       "<tr>\n",
       "  <th>annee_construction</th>     <td>-2359.6177</td> <td>   68.283</td> <td>  -34.556</td> <td> 0.000</td> <td>-2493.460</td> <td>-2225.775</td>\n",
       "</tr>\n",
       "<tr>\n",
       "  <th>annee_renovation</th>       <td>   25.1553</td> <td>    3.583</td> <td>    7.021</td> <td> 0.000</td> <td>   18.132</td> <td>   32.178</td>\n",
       "</tr>\n",
       "<tr>\n",
       "  <th>m2_interieur_15voisins</th> <td>  455.6390</td> <td>   38.075</td> <td>   11.967</td> <td> 0.000</td> <td>  381.009</td> <td>  530.269</td>\n",
       "</tr>\n",
       "<tr>\n",
       "  <th>m2_jardin_15voisins</th>    <td>  -11.8521</td> <td>    1.540</td> <td>   -7.695</td> <td> 0.000</td> <td>  -14.871</td> <td>   -8.833</td>\n",
       "</tr>\n",
       "<tr>\n",
       "  <th>zipcode</th>                <td> -462.2760</td> <td>   17.992</td> <td>  -25.693</td> <td> 0.000</td> <td> -497.542</td> <td> -427.010</td>\n",
       "</tr>\n",
       "<tr>\n",
       "  <th>lat</th>                    <td> 6.038e+05</td> <td> 1.06e+04</td> <td>   57.095</td> <td> 0.000</td> <td> 5.83e+05</td> <td> 6.25e+05</td>\n",
       "</tr>\n",
       "<tr>\n",
       "  <th>long</th>                   <td>-1.678e+05</td> <td> 1.32e+04</td> <td>  -12.677</td> <td> 0.000</td> <td>-1.94e+05</td> <td>-1.42e+05</td>\n",
       "</tr>\n",
       "</table>\n",
       "<table class=\"simpletable\">\n",
       "<tr>\n",
       "  <th>Omnibus:</th>       <td>8461.541</td> <th>  Durbin-Watson:     </th>  <td>   2.018</td> \n",
       "</tr>\n",
       "<tr>\n",
       "  <th>Prob(Omnibus):</th>  <td> 0.000</td>  <th>  Jarque-Bera (JB):  </th> <td>140203.402</td>\n",
       "</tr>\n",
       "<tr>\n",
       "  <th>Skew:</th>           <td> 2.143</td>  <th>  Prob(JB):          </th>  <td>    0.00</td> \n",
       "</tr>\n",
       "<tr>\n",
       "  <th>Kurtosis:</th>       <td>16.801</td>  <th>  Cond. No.          </th>  <td>1.33e+06</td> \n",
       "</tr>\n",
       "</table><br/><br/>Notes:<br/>[1] R² is computed without centering (uncentered) since the model does not contain a constant.<br/>[2] Standard Errors assume that the covariance matrix of the errors is correctly specified.<br/>[3] The condition number is large, 1.33e+06. This might indicate that there are<br/>strong multicollinearity or other numerical problems."
      ],
      "text/latex": [
       "\\begin{center}\n",
       "\\begin{tabular}{lclc}\n",
       "\\toprule\n",
       "\\textbf{Dep. Variable:}           &       prix       & \\textbf{  R-squared (uncentered):}      &      0.921   \\\\\n",
       "\\textbf{Model:}                   &       OLS        & \\textbf{  Adj. R-squared (uncentered):} &      0.921   \\\\\n",
       "\\textbf{Method:}                  &  Least Squares   & \\textbf{  F-statistic:       }          &  1.178e+04   \\\\\n",
       "\\textbf{Date:}                    & Wed, 03 Apr 2024 & \\textbf{  Prob (F-statistic):}          &      0.00    \\\\\n",
       "\\textbf{Time:}                    &     19:34:20     & \\textbf{  Log-Likelihood:    }          & -2.1701e+05  \\\\\n",
       "\\textbf{No. Observations:}        &       16112      & \\textbf{  AIC:               }          &  4.340e+05   \\\\\n",
       "\\textbf{Df Residuals:}            &       16096      & \\textbf{  BIC:               }          &  4.342e+05   \\\\\n",
       "\\textbf{Df Model:}                &          16      & \\textbf{                     }          &              \\\\\n",
       "\\textbf{Covariance Type:}         &    nonrobust     & \\textbf{                     }          &              \\\\\n",
       "\\bottomrule\n",
       "\\end{tabular}\n",
       "\\begin{tabular}{lcccccc}\n",
       "                                  & \\textbf{coef} & \\textbf{std err} & \\textbf{t} & \\textbf{P$> |$t$|$} & \\textbf{[0.025} & \\textbf{0.975]}  \\\\\n",
       "\\midrule\n",
       "\\textbf{nb\\_chambres}             &   -2.028e+04  &     2070.208     &    -9.795  &         0.000        &    -2.43e+04    &    -1.62e+04     \\\\\n",
       "\\textbf{nb\\_sdb}                  &    3.318e+04  &     3312.571     &    10.018  &         0.000        &     2.67e+04    &     3.97e+04     \\\\\n",
       "\\textbf{m2\\_interieur}            &    1371.5214  &       42.966     &    31.921  &         0.000        &     1287.304    &     1455.739     \\\\\n",
       "\\textbf{m2\\_soussol}              &    -186.5591  &       48.093     &    -3.879  &         0.000        &     -280.827    &      -92.291     \\\\\n",
       "\\textbf{nb\\_etages}               &    1.577e+04  &     3596.640     &     4.384  &         0.000        &     8717.812    &     2.28e+04     \\\\\n",
       "\\textbf{vue\\_mer}                 &     4.46e+05  &     1.82e+04     &    24.468  &         0.000        &      4.1e+05    &     4.82e+05     \\\\\n",
       "\\textbf{vue\\_note}                &    6.002e+04  &     2402.800     &    24.978  &         0.000        &     5.53e+04    &     6.47e+04     \\\\\n",
       "\\textbf{etat\\_note}               &    3.456e+04  &     2390.462     &    14.458  &         0.000        &     2.99e+04    &     3.92e+04     \\\\\n",
       "\\textbf{design\\_note}             &    1.035e+05  &     2231.712     &    46.398  &         0.000        &     9.92e+04    &     1.08e+05     \\\\\n",
       "\\textbf{annee\\_construction}      &   -2359.6177  &       68.283     &   -34.556  &         0.000        &    -2493.460    &    -2225.775     \\\\\n",
       "\\textbf{annee\\_renovation}        &      25.1553  &        3.583     &     7.021  &         0.000        &       18.132    &       32.178     \\\\\n",
       "\\textbf{m2\\_interieur\\_15voisins} &     455.6390  &       38.075     &    11.967  &         0.000        &      381.009    &      530.269     \\\\\n",
       "\\textbf{m2\\_jardin\\_15voisins}    &     -11.8521  &        1.540     &    -7.695  &         0.000        &      -14.871    &       -8.833     \\\\\n",
       "\\textbf{zipcode}                  &    -462.2760  &       17.992     &   -25.693  &         0.000        &     -497.542    &     -427.010     \\\\\n",
       "\\textbf{lat}                      &    6.038e+05  &     1.06e+04     &    57.095  &         0.000        &     5.83e+05    &     6.25e+05     \\\\\n",
       "\\textbf{long}                     &   -1.678e+05  &     1.32e+04     &   -12.677  &         0.000        &    -1.94e+05    &    -1.42e+05     \\\\\n",
       "\\bottomrule\n",
       "\\end{tabular}\n",
       "\\begin{tabular}{lclc}\n",
       "\\textbf{Omnibus:}       & 8461.541 & \\textbf{  Durbin-Watson:     } &     2.018   \\\\\n",
       "\\textbf{Prob(Omnibus):} &   0.000  & \\textbf{  Jarque-Bera (JB):  } & 140203.402  \\\\\n",
       "\\textbf{Skew:}          &   2.143  & \\textbf{  Prob(JB):          } &      0.00   \\\\\n",
       "\\textbf{Kurtosis:}      &  16.801  & \\textbf{  Cond. No.          } &  1.33e+06   \\\\\n",
       "\\bottomrule\n",
       "\\end{tabular}\n",
       "%\\caption{OLS Regression Results}\n",
       "\\end{center}\n",
       "\n",
       "Notes: \\newline\n",
       " [1] R² is computed without centering (uncentered) since the model does not contain a constant. \\newline\n",
       " [2] Standard Errors assume that the covariance matrix of the errors is correctly specified. \\newline\n",
       " [3] The condition number is large, 1.33e+06. This might indicate that there are \\newline\n",
       " strong multicollinearity or other numerical problems."
      ],
      "text/plain": [
       "<class 'statsmodels.iolib.summary.Summary'>\n",
       "\"\"\"\n",
       "                                 OLS Regression Results                                \n",
       "=======================================================================================\n",
       "Dep. Variable:                   prix   R-squared (uncentered):                   0.921\n",
       "Model:                            OLS   Adj. R-squared (uncentered):              0.921\n",
       "Method:                 Least Squares   F-statistic:                          1.178e+04\n",
       "Date:                Wed, 03 Apr 2024   Prob (F-statistic):                        0.00\n",
       "Time:                        19:34:20   Log-Likelihood:                     -2.1701e+05\n",
       "No. Observations:               16112   AIC:                                  4.340e+05\n",
       "Df Residuals:                   16096   BIC:                                  4.342e+05\n",
       "Df Model:                          16                                                  \n",
       "Covariance Type:            nonrobust                                                  \n",
       "==========================================================================================\n",
       "                             coef    std err          t      P>|t|      [0.025      0.975]\n",
       "------------------------------------------------------------------------------------------\n",
       "nb_chambres            -2.028e+04   2070.208     -9.795      0.000   -2.43e+04   -1.62e+04\n",
       "nb_sdb                  3.318e+04   3312.571     10.018      0.000    2.67e+04    3.97e+04\n",
       "m2_interieur            1371.5214     42.966     31.921      0.000    1287.304    1455.739\n",
       "m2_soussol              -186.5591     48.093     -3.879      0.000    -280.827     -92.291\n",
       "nb_etages               1.577e+04   3596.640      4.384      0.000    8717.812    2.28e+04\n",
       "vue_mer                  4.46e+05   1.82e+04     24.468      0.000     4.1e+05    4.82e+05\n",
       "vue_note                6.002e+04   2402.800     24.978      0.000    5.53e+04    6.47e+04\n",
       "etat_note               3.456e+04   2390.462     14.458      0.000    2.99e+04    3.92e+04\n",
       "design_note             1.035e+05   2231.712     46.398      0.000    9.92e+04    1.08e+05\n",
       "annee_construction     -2359.6177     68.283    -34.556      0.000   -2493.460   -2225.775\n",
       "annee_renovation          25.1553      3.583      7.021      0.000      18.132      32.178\n",
       "m2_interieur_15voisins   455.6390     38.075     11.967      0.000     381.009     530.269\n",
       "m2_jardin_15voisins      -11.8521      1.540     -7.695      0.000     -14.871      -8.833\n",
       "zipcode                 -462.2760     17.992    -25.693      0.000    -497.542    -427.010\n",
       "lat                     6.038e+05   1.06e+04     57.095      0.000    5.83e+05    6.25e+05\n",
       "long                   -1.678e+05   1.32e+04    -12.677      0.000   -1.94e+05   -1.42e+05\n",
       "==============================================================================\n",
       "Omnibus:                     8461.541   Durbin-Watson:                   2.018\n",
       "Prob(Omnibus):                  0.000   Jarque-Bera (JB):           140203.402\n",
       "Skew:                           2.143   Prob(JB):                         0.00\n",
       "Kurtosis:                      16.801   Cond. No.                     1.33e+06\n",
       "==============================================================================\n",
       "\n",
       "Notes:\n",
       "[1] R² is computed without centering (uncentered) since the model does not contain a constant.\n",
       "[2] Standard Errors assume that the covariance matrix of the errors is correctly specified.\n",
       "[3] The condition number is large, 1.33e+06. This might indicate that there are\n",
       "strong multicollinearity or other numerical problems.\n",
       "\"\"\""
      ]
     },
     "execution_count": 124,
     "metadata": {},
     "output_type": "execute_result"
    }
   ],
   "source": [
    "# On retire const\n",
    "\n",
    "var_X_comp = ['nb_chambres', 'nb_sdb', 'm2_interieur', 'm2_soussol', 'nb_etages', 'vue_mer', 'vue_note', 'etat_note', 'design_note', 'annee_construction', 'annee_renovation', 'm2_interieur_15voisins', 'm2_jardin_15voisins', 'zipcode', 'lat', 'long']\n",
    "X_comp = data[var_X_comp]\n",
    "linreg_comp_model = OLS(Y, X_comp)\n",
    "linreg_comp = linreg_comp_model.fit()\n",
    "linreg_comp.summary()"
   ]
  },
  {
   "cell_type": "markdown",
   "metadata": {},
   "source": [
    "On ne retire pas d'autre covariable. "
   ]
  },
  {
   "cell_type": "code",
   "execution_count": 125,
   "metadata": {},
   "outputs": [
    {
     "name": "stdout",
     "output_type": "stream",
     "text": [
      "AIC de la régression linéaire complète : 434166.4\n",
      "BIC de la régression linéaire complète : 434043.4\n"
     ]
    }
   ],
   "source": [
    "# AIC et BIC du modèle complet\n",
    "\n",
    "AIC_comp = round(linreg_comp.aic, ndigits=1)\n",
    "BIC_comp = round(linreg_comp.bic, ndigits=1)\n",
    "\n",
    "print('AIC de la régression linéaire complète :', BIC_comp)\n",
    "print('BIC de la régression linéaire complète :', AIC_comp) "
   ]
  },
  {
   "cell_type": "markdown",
   "metadata": {},
   "source": [
    "C'est très élevé, le modèle n'est donc pas très performant à priori."
   ]
  },
  {
   "cell_type": "markdown",
   "metadata": {},
   "source": [
    "## Amélioration du modèle complet"
   ]
  },
  {
   "cell_type": "code",
   "execution_count": 126,
   "metadata": {},
   "outputs": [],
   "source": [
    "alpha = 0.05\n",
    "n = data.shape[0]\n",
    "p = 4\n",
    "influence = linreg_comp.get_influence()"
   ]
  },
  {
   "cell_type": "markdown",
   "metadata": {},
   "source": [
    "### Détection des données atypiques et influentes"
   ]
  },
  {
   "cell_type": "markdown",
   "metadata": {},
   "source": [
    "#### Méthode des Leviers"
   ]
  },
  {
   "cell_type": "code",
   "execution_count": 127,
   "metadata": {},
   "outputs": [],
   "source": [
    "levier = influence.hat_matrix_diag\n",
    "seuil_levier = 2*p/n"
   ]
  },
  {
   "cell_type": "code",
   "execution_count": 128,
   "metadata": {},
   "outputs": [
    {
     "data": {
      "image/png": "[encoded data removed]",
      "text/plain": [
       "<Figure size 800x600 with 1 Axes>"
      ]
     },
     "metadata": {},
     "output_type": "display_data"
    }
   ],
   "source": [
    "plt.subplots(figsize=(8, 6))\n",
    "plt.vlines(range(n), 0, levier)\n",
    "plt.axhline(y=seuil_levier, label='Seuil', color='red')\n",
    "plt.grid()\n",
    "plt.xlabel('Observation')\n",
    "plt.ylabel('Levier')\n",
    "plt.title('Diagnostics de la régression linéaire')\n",
    "plt.legend(loc='upper left')\n",
    "plt.show()"
   ]
  },
  {
   "cell_type": "code",
   "execution_count": 129,
   "metadata": {},
   "outputs": [
    {
     "name": "stdout",
     "output_type": "stream",
     "text": [
      "76.359 % dépassent le seuil de levier\n",
      "ATTENTION BEAUCOUP DE DONNEES ATYPIQUES\n"
     ]
    }
   ],
   "source": [
    "too_high = np.where(levier > seuil_levier)\n",
    "nb_too_high = np.shape(too_high)[1]\n",
    "pourcentage_too_high = nb_too_high/n*100\n",
    "\n",
    "print(round(pourcentage_too_high,3), '% dépassent le seuil de levier')\n",
    "if pourcentage_too_high > 5:\n",
    "    print('ATTENTION BEAUCOUP DE DONNEES ATYPIQUES')\n"
   ]
  },
  {
   "cell_type": "markdown",
   "metadata": {},
   "source": [
    "#### Résidus Studentisés"
   ]
  },
  {
   "cell_type": "code",
   "execution_count": 130,
   "metadata": {},
   "outputs": [],
   "source": [
    "rstudent = influence.resid_studentized_external\n",
    "seuil_rstudent = scy.t.ppf(1-alpha/2, df=n-p-1)"
   ]
  },
  {
   "cell_type": "code",
   "execution_count": 131,
   "metadata": {},
   "outputs": [
    {
     "data": {
      "image/png": "[encoded data removed]",
      "text/plain": [
       "<Figure size 800x600 with 1 Axes>"
      ]
     },
     "metadata": {},
     "output_type": "display_data"
    }
   ],
   "source": [
    "plt.subplots(figsize=(8, 6))\n",
    "plt.vlines(range(n), 0, rstudent)\n",
    "plt.axhline(y=seuil_rstudent, label='Seuils', color='red')\n",
    "plt.axhline(y=-seuil_rstudent, color='red')\n",
    "plt.grid()\n",
    "plt.xlabel('Observation')\n",
    "plt.ylabel('Résidu studentisé')\n",
    "plt.title('Diagnostics de la régression linéaire')\n",
    "plt.legend(loc='best')\n",
    "plt.show()"
   ]
  },
  {
   "cell_type": "code",
   "execution_count": 132,
   "metadata": {},
   "outputs": [
    {
     "name": "stdout",
     "output_type": "stream",
     "text": [
      "Observations avec un résidu studentisé dépassant les seuils :\n",
      "3.004 % dépassent le seuil de levier\n"
     ]
    }
   ],
   "source": [
    "print('Observations avec un résidu studentisé dépassant les seuils :')\n",
    "too_high = np.where(rstudent > seuil_rstudent)\n",
    "nb_too_high = np.shape(too_high)[1]\n",
    "pourcentage_too_high = nb_too_high/n*100\n",
    "\n",
    "print(round(pourcentage_too_high,3), '% dépassent le seuil de levier')\n",
    "if pourcentage_too_high > 5:\n",
    "    print('ATTENTION BEAUCOUP DE DONNEES ATYPIQUES')\n"
   ]
  },
  {
   "cell_type": "markdown",
   "metadata": {},
   "source": [
    "#### Distance de Cook"
   ]
  },
  {
   "cell_type": "code",
   "execution_count": 133,
   "metadata": {},
   "outputs": [],
   "source": [
    "dcook, pcook = influence.cooks_distance\n",
    "seuil_dcook = 4/(n-p)"
   ]
  },
  {
   "cell_type": "code",
   "execution_count": 134,
   "metadata": {},
   "outputs": [
    {
     "data": {
      "image/png": "[encoded data removed]",
      "text/plain": [
       "<Figure size 800x600 with 1 Axes>"
      ]
     },
     "metadata": {},
     "output_type": "display_data"
    }
   ],
   "source": [
    "plt.subplots(figsize=(8, 6))\n",
    "plt.vlines(range(n), 0, dcook)\n",
    "plt.axhline(y=seuil_dcook, label='Seuil', color='red')\n",
    "plt.grid()\n",
    "plt.xlabel('Observation')\n",
    "plt.ylabel('Distance de Cook')\n",
    "plt.title('Diagnostics de la régression linéaire')\n",
    "plt.legend(loc='best')\n",
    "plt.show()"
   ]
  },
  {
   "cell_type": "code",
   "execution_count": 135,
   "metadata": {},
   "outputs": [
    {
     "name": "stdout",
     "output_type": "stream",
     "text": [
      "Observations avec un résidu studentisé dépassant les seuils :\n",
      "5.809 % dépassent le seuil de levier\n",
      "ATTENTION BEAUCOUP DE DONNEES INFLUENTES\n"
     ]
    }
   ],
   "source": [
    "print('Observations avec un résidu studentisé dépassant les seuils :')\n",
    "too_high = np.where(dcook > seuil_dcook)\n",
    "nb_too_high = np.shape(too_high)[1]\n",
    "pourcentage_too_high = nb_too_high/n*100\n",
    "\n",
    "print(round(pourcentage_too_high,3), '% dépassent le seuil de levier')\n",
    "if pourcentage_too_high > 5:\n",
    "    print('ATTENTION BEAUCOUP DE DONNEES INFLUENTES')"
   ]
  },
  {
   "cell_type": "markdown",
   "metadata": {},
   "source": [
    "### Suppression des données atypiques et influentes"
   ]
  },
  {
   "cell_type": "code",
   "execution_count": 136,
   "metadata": {},
   "outputs": [
    {
     "name": "stdout",
     "output_type": "stream",
     "text": [
      "933 valeurs ont été retirées\n",
      "-5.790714995034757 % des valeurs ont été retirées\n",
      "15179 valeurs restantes\n"
     ]
    }
   ],
   "source": [
    "# Création d'un tableau avec les données atypiques avec la méthode des leviers\n",
    "\n",
    "atypique = data.iloc[np.where(levier > seuil_levier)]\n",
    "\n",
    "# Création d'un tableau avec les données influentes avec la méthode des distances de Cook\n",
    "\n",
    "influente = data.iloc[np.where(dcook > seuil_dcook)]\n",
    "\n",
    "# Création d'un tableau avec les données atypiques et influentes (interesection deux deux tableaux)\n",
    "\n",
    "atypique_influente = data.iloc[np.where((levier > seuil_levier) & (dcook > seuil_dcook))]\n",
    "\n",
    "# Drop des valeurs atypiques et influentes\n",
    "\n",
    "data = data.drop(atypique_influente.index)          # OBTENTION DE NOUVELLES DONNEES NETTOYEES\n",
    "\n",
    "# Exportation des nouvelles données nettoyées\n",
    "\n",
    "data_cleaned_atypiques_influentes = data\n",
    "data_cleaned_atypiques_influentes.to_csv('Data/data_cleaned_atypiques_influentes.csv', index=False)\n",
    "\n",
    "# Informations sur les données\n",
    "new_n = data.shape[0]\n",
    "print(n-new_n, 'valeurs ont été retirées')\n",
    "print((new_n-n)/n*100, '% des valeurs ont été retirées')\n",
    "print(new_n, 'valeurs restantes')"
   ]
  },
  {
   "cell_type": "code",
   "execution_count": 137,
   "metadata": {},
   "outputs": [
    {
     "data": {
      "text/html": [
       "<table class=\"simpletable\">\n",
       "<caption>OLS Regression Results</caption>\n",
       "<tr>\n",
       "  <th>Dep. Variable:</th>          <td>prix</td>       <th>  R-squared (uncentered):</th>       <td>   0.958</td>  \n",
       "</tr>\n",
       "<tr>\n",
       "  <th>Model:</th>                   <td>OLS</td>       <th>  Adj. R-squared (uncentered):</th>  <td>   0.957</td>  \n",
       "</tr>\n",
       "<tr>\n",
       "  <th>Method:</th>             <td>Least Squares</td>  <th>  F-statistic:       </th>           <td>2.137e+04</td> \n",
       "</tr>\n",
       "<tr>\n",
       "  <th>Date:</th>             <td>Wed, 03 Apr 2024</td> <th>  Prob (F-statistic):</th>            <td>  0.00</td>   \n",
       "</tr>\n",
       "<tr>\n",
       "  <th>Time:</th>                 <td>19:38:59</td>     <th>  Log-Likelihood:    </th>          <td>-1.9783e+05</td>\n",
       "</tr>\n",
       "<tr>\n",
       "  <th>No. Observations:</th>      <td> 15179</td>      <th>  AIC:               </th>           <td>3.957e+05</td> \n",
       "</tr>\n",
       "<tr>\n",
       "  <th>Df Residuals:</th>          <td> 15163</td>      <th>  BIC:               </th>           <td>3.958e+05</td> \n",
       "</tr>\n",
       "<tr>\n",
       "  <th>Df Model:</th>              <td>    16</td>      <th>                     </th>               <td> </td>     \n",
       "</tr>\n",
       "<tr>\n",
       "  <th>Covariance Type:</th>      <td>nonrobust</td>    <th>                     </th>               <td> </td>     \n",
       "</tr>\n",
       "</table>\n",
       "<table class=\"simpletable\">\n",
       "<tr>\n",
       "             <td></td>               <th>coef</th>     <th>std err</th>      <th>t</th>      <th>P>|t|</th>  <th>[0.025</th>    <th>0.975]</th>  \n",
       "</tr>\n",
       "<tr>\n",
       "  <th>nb_chambres</th>            <td>-1.523e+04</td> <td> 1403.542</td> <td>  -10.850</td> <td> 0.000</td> <td> -1.8e+04</td> <td>-1.25e+04</td>\n",
       "</tr>\n",
       "<tr>\n",
       "  <th>nb_sdb</th>                 <td> 2.521e+04</td> <td> 2265.592</td> <td>   11.126</td> <td> 0.000</td> <td> 2.08e+04</td> <td> 2.96e+04</td>\n",
       "</tr>\n",
       "<tr>\n",
       "  <th>m2_interieur</th>           <td> 1033.2188</td> <td>   30.292</td> <td>   34.109</td> <td> 0.000</td> <td>  973.843</td> <td> 1092.595</td>\n",
       "</tr>\n",
       "<tr>\n",
       "  <th>m2_soussol</th>             <td>    7.1396</td> <td>   33.620</td> <td>    0.212</td> <td> 0.832</td> <td>  -58.760</td> <td>   73.039</td>\n",
       "</tr>\n",
       "<tr>\n",
       "  <th>nb_etages</th>              <td> 2.796e+04</td> <td> 2442.174</td> <td>   11.449</td> <td> 0.000</td> <td> 2.32e+04</td> <td> 3.27e+04</td>\n",
       "</tr>\n",
       "<tr>\n",
       "  <th>vue_mer</th>                <td> 5.342e+05</td> <td> 2.76e+04</td> <td>   19.373</td> <td> 0.000</td> <td>  4.8e+05</td> <td> 5.88e+05</td>\n",
       "</tr>\n",
       "<tr>\n",
       "  <th>vue_note</th>               <td> 5.441e+04</td> <td> 1850.380</td> <td>   29.403</td> <td> 0.000</td> <td> 5.08e+04</td> <td>  5.8e+04</td>\n",
       "</tr>\n",
       "<tr>\n",
       "  <th>etat_note</th>              <td> 2.899e+04</td> <td> 1601.095</td> <td>   18.108</td> <td> 0.000</td> <td> 2.59e+04</td> <td> 3.21e+04</td>\n",
       "</tr>\n",
       "<tr>\n",
       "  <th>design_note</th>            <td> 8.734e+04</td> <td> 1524.287</td> <td>   57.296</td> <td> 0.000</td> <td> 8.43e+04</td> <td> 9.03e+04</td>\n",
       "</tr>\n",
       "<tr>\n",
       "  <th>annee_construction</th>     <td>-2044.3789</td> <td>   46.797</td> <td>  -43.686</td> <td> 0.000</td> <td>-2136.106</td> <td>-1952.652</td>\n",
       "</tr>\n",
       "<tr>\n",
       "  <th>annee_renovation</th>       <td>   21.2329</td> <td>    2.657</td> <td>    7.991</td> <td> 0.000</td> <td>   16.025</td> <td>   26.441</td>\n",
       "</tr>\n",
       "<tr>\n",
       "  <th>m2_interieur_15voisins</th> <td>  430.4333</td> <td>   27.289</td> <td>   15.773</td> <td> 0.000</td> <td>  376.944</td> <td>  483.922</td>\n",
       "</tr>\n",
       "<tr>\n",
       "  <th>m2_jardin_15voisins</th>    <td>  -10.1048</td> <td>    1.106</td> <td>   -9.132</td> <td> 0.000</td> <td>  -12.274</td> <td>   -7.936</td>\n",
       "</tr>\n",
       "<tr>\n",
       "  <th>zipcode</th>                <td> -308.9836</td> <td>   12.186</td> <td>  -25.357</td> <td> 0.000</td> <td> -332.869</td> <td> -285.099</td>\n",
       "</tr>\n",
       "<tr>\n",
       "  <th>lat</th>                    <td> 5.581e+05</td> <td> 7023.074</td> <td>   79.469</td> <td> 0.000</td> <td> 5.44e+05</td> <td> 5.72e+05</td>\n",
       "</tr>\n",
       "<tr>\n",
       "  <th>long</th>                   <td>-5.887e+04</td> <td> 8963.093</td> <td>   -6.568</td> <td> 0.000</td> <td>-7.64e+04</td> <td>-4.13e+04</td>\n",
       "</tr>\n",
       "</table>\n",
       "<table class=\"simpletable\">\n",
       "<tr>\n",
       "  <th>Omnibus:</th>       <td>991.040</td> <th>  Durbin-Watson:     </th> <td>   2.022</td>\n",
       "</tr>\n",
       "<tr>\n",
       "  <th>Prob(Omnibus):</th> <td> 0.000</td>  <th>  Jarque-Bera (JB):  </th> <td>1473.838</td>\n",
       "</tr>\n",
       "<tr>\n",
       "  <th>Skew:</th>          <td> 0.550</td>  <th>  Prob(JB):          </th> <td>    0.00</td>\n",
       "</tr>\n",
       "<tr>\n",
       "  <th>Kurtosis:</th>      <td> 4.058</td>  <th>  Cond. No.          </th> <td>3.01e+06</td>\n",
       "</tr>\n",
       "</table><br/><br/>Notes:<br/>[1] R² is computed without centering (uncentered) since the model does not contain a constant.<br/>[2] Standard Errors assume that the covariance matrix of the errors is correctly specified.<br/>[3] The condition number is large, 3.01e+06. This might indicate that there are<br/>strong multicollinearity or other numerical problems."
      ],
      "text/latex": [
       "\\begin{center}\n",
       "\\begin{tabular}{lclc}\n",
       "\\toprule\n",
       "\\textbf{Dep. Variable:}           &       prix       & \\textbf{  R-squared (uncentered):}      &      0.958   \\\\\n",
       "\\textbf{Model:}                   &       OLS        & \\textbf{  Adj. R-squared (uncentered):} &      0.957   \\\\\n",
       "\\textbf{Method:}                  &  Least Squares   & \\textbf{  F-statistic:       }          &  2.137e+04   \\\\\n",
       "\\textbf{Date:}                    & Wed, 03 Apr 2024 & \\textbf{  Prob (F-statistic):}          &      0.00    \\\\\n",
       "\\textbf{Time:}                    &     19:38:59     & \\textbf{  Log-Likelihood:    }          & -1.9783e+05  \\\\\n",
       "\\textbf{No. Observations:}        &       15179      & \\textbf{  AIC:               }          &  3.957e+05   \\\\\n",
       "\\textbf{Df Residuals:}            &       15163      & \\textbf{  BIC:               }          &  3.958e+05   \\\\\n",
       "\\textbf{Df Model:}                &          16      & \\textbf{                     }          &              \\\\\n",
       "\\textbf{Covariance Type:}         &    nonrobust     & \\textbf{                     }          &              \\\\\n",
       "\\bottomrule\n",
       "\\end{tabular}\n",
       "\\begin{tabular}{lcccccc}\n",
       "                                  & \\textbf{coef} & \\textbf{std err} & \\textbf{t} & \\textbf{P$> |$t$|$} & \\textbf{[0.025} & \\textbf{0.975]}  \\\\\n",
       "\\midrule\n",
       "\\textbf{nb\\_chambres}             &   -1.523e+04  &     1403.542     &   -10.850  &         0.000        &     -1.8e+04    &    -1.25e+04     \\\\\n",
       "\\textbf{nb\\_sdb}                  &    2.521e+04  &     2265.592     &    11.126  &         0.000        &     2.08e+04    &     2.96e+04     \\\\\n",
       "\\textbf{m2\\_interieur}            &    1033.2188  &       30.292     &    34.109  &         0.000        &      973.843    &     1092.595     \\\\\n",
       "\\textbf{m2\\_soussol}              &       7.1396  &       33.620     &     0.212  &         0.832        &      -58.760    &       73.039     \\\\\n",
       "\\textbf{nb\\_etages}               &    2.796e+04  &     2442.174     &    11.449  &         0.000        &     2.32e+04    &     3.27e+04     \\\\\n",
       "\\textbf{vue\\_mer}                 &    5.342e+05  &     2.76e+04     &    19.373  &         0.000        &      4.8e+05    &     5.88e+05     \\\\\n",
       "\\textbf{vue\\_note}                &    5.441e+04  &     1850.380     &    29.403  &         0.000        &     5.08e+04    &      5.8e+04     \\\\\n",
       "\\textbf{etat\\_note}               &    2.899e+04  &     1601.095     &    18.108  &         0.000        &     2.59e+04    &     3.21e+04     \\\\\n",
       "\\textbf{design\\_note}             &    8.734e+04  &     1524.287     &    57.296  &         0.000        &     8.43e+04    &     9.03e+04     \\\\\n",
       "\\textbf{annee\\_construction}      &   -2044.3789  &       46.797     &   -43.686  &         0.000        &    -2136.106    &    -1952.652     \\\\\n",
       "\\textbf{annee\\_renovation}        &      21.2329  &        2.657     &     7.991  &         0.000        &       16.025    &       26.441     \\\\\n",
       "\\textbf{m2\\_interieur\\_15voisins} &     430.4333  &       27.289     &    15.773  &         0.000        &      376.944    &      483.922     \\\\\n",
       "\\textbf{m2\\_jardin\\_15voisins}    &     -10.1048  &        1.106     &    -9.132  &         0.000        &      -12.274    &       -7.936     \\\\\n",
       "\\textbf{zipcode}                  &    -308.9836  &       12.186     &   -25.357  &         0.000        &     -332.869    &     -285.099     \\\\\n",
       "\\textbf{lat}                      &    5.581e+05  &     7023.074     &    79.469  &         0.000        &     5.44e+05    &     5.72e+05     \\\\\n",
       "\\textbf{long}                     &   -5.887e+04  &     8963.093     &    -6.568  &         0.000        &    -7.64e+04    &    -4.13e+04     \\\\\n",
       "\\bottomrule\n",
       "\\end{tabular}\n",
       "\\begin{tabular}{lclc}\n",
       "\\textbf{Omnibus:}       & 991.040 & \\textbf{  Durbin-Watson:     } &    2.022  \\\\\n",
       "\\textbf{Prob(Omnibus):} &   0.000 & \\textbf{  Jarque-Bera (JB):  } & 1473.838  \\\\\n",
       "\\textbf{Skew:}          &   0.550 & \\textbf{  Prob(JB):          } &     0.00  \\\\\n",
       "\\textbf{Kurtosis:}      &   4.058 & \\textbf{  Cond. No.          } & 3.01e+06  \\\\\n",
       "\\bottomrule\n",
       "\\end{tabular}\n",
       "%\\caption{OLS Regression Results}\n",
       "\\end{center}\n",
       "\n",
       "Notes: \\newline\n",
       " [1] R² is computed without centering (uncentered) since the model does not contain a constant. \\newline\n",
       " [2] Standard Errors assume that the covariance matrix of the errors is correctly specified. \\newline\n",
       " [3] The condition number is large, 3.01e+06. This might indicate that there are \\newline\n",
       " strong multicollinearity or other numerical problems."
      ],
      "text/plain": [
       "<class 'statsmodels.iolib.summary.Summary'>\n",
       "\"\"\"\n",
       "                                 OLS Regression Results                                \n",
       "=======================================================================================\n",
       "Dep. Variable:                   prix   R-squared (uncentered):                   0.958\n",
       "Model:                            OLS   Adj. R-squared (uncentered):              0.957\n",
       "Method:                 Least Squares   F-statistic:                          2.137e+04\n",
       "Date:                Wed, 03 Apr 2024   Prob (F-statistic):                        0.00\n",
       "Time:                        19:38:59   Log-Likelihood:                     -1.9783e+05\n",
       "No. Observations:               15179   AIC:                                  3.957e+05\n",
       "Df Residuals:                   15163   BIC:                                  3.958e+05\n",
       "Df Model:                          16                                                  \n",
       "Covariance Type:            nonrobust                                                  \n",
       "==========================================================================================\n",
       "                             coef    std err          t      P>|t|      [0.025      0.975]\n",
       "------------------------------------------------------------------------------------------\n",
       "nb_chambres            -1.523e+04   1403.542    -10.850      0.000    -1.8e+04   -1.25e+04\n",
       "nb_sdb                  2.521e+04   2265.592     11.126      0.000    2.08e+04    2.96e+04\n",
       "m2_interieur            1033.2188     30.292     34.109      0.000     973.843    1092.595\n",
       "m2_soussol                 7.1396     33.620      0.212      0.832     -58.760      73.039\n",
       "nb_etages               2.796e+04   2442.174     11.449      0.000    2.32e+04    3.27e+04\n",
       "vue_mer                 5.342e+05   2.76e+04     19.373      0.000     4.8e+05    5.88e+05\n",
       "vue_note                5.441e+04   1850.380     29.403      0.000    5.08e+04     5.8e+04\n",
       "etat_note               2.899e+04   1601.095     18.108      0.000    2.59e+04    3.21e+04\n",
       "design_note             8.734e+04   1524.287     57.296      0.000    8.43e+04    9.03e+04\n",
       "annee_construction     -2044.3789     46.797    -43.686      0.000   -2136.106   -1952.652\n",
       "annee_renovation          21.2329      2.657      7.991      0.000      16.025      26.441\n",
       "m2_interieur_15voisins   430.4333     27.289     15.773      0.000     376.944     483.922\n",
       "m2_jardin_15voisins      -10.1048      1.106     -9.132      0.000     -12.274      -7.936\n",
       "zipcode                 -308.9836     12.186    -25.357      0.000    -332.869    -285.099\n",
       "lat                     5.581e+05   7023.074     79.469      0.000    5.44e+05    5.72e+05\n",
       "long                   -5.887e+04   8963.093     -6.568      0.000   -7.64e+04   -4.13e+04\n",
       "==============================================================================\n",
       "Omnibus:                      991.040   Durbin-Watson:                   2.022\n",
       "Prob(Omnibus):                  0.000   Jarque-Bera (JB):             1473.838\n",
       "Skew:                           0.550   Prob(JB):                         0.00\n",
       "Kurtosis:                       4.058   Cond. No.                     3.01e+06\n",
       "==============================================================================\n",
       "\n",
       "Notes:\n",
       "[1] R² is computed without centering (uncentered) since the model does not contain a constant.\n",
       "[2] Standard Errors assume that the covariance matrix of the errors is correctly specified.\n",
       "[3] The condition number is large, 3.01e+06. This might indicate that there are\n",
       "strong multicollinearity or other numerical problems.\n",
       "\"\"\""
      ]
     },
     "execution_count": 137,
     "metadata": {},
     "output_type": "execute_result"
    }
   ],
   "source": [
    "#Calcul de la régression linéaire complète sur les données nettoyées (sans les valeurs atypiques et influentes)\n",
    "\n",
    "var_Y= 'prix'\n",
    "Y = data[var_Y]\n",
    "\n",
    "var_X_comp = ['nb_chambres', 'nb_sdb', 'm2_interieur', 'm2_soussol', 'nb_etages', 'vue_mer', 'vue_note', 'etat_note', 'design_note', 'annee_construction', 'annee_renovation', 'm2_interieur_15voisins', 'm2_jardin_15voisins', 'zipcode', 'lat', 'long']\n",
    "X_comp = data[var_X_comp]\n",
    "linreg_comp_model = OLS(Y, X_comp)\n",
    "linreg_comp = linreg_comp_model.fit()\n",
    "linreg_comp.summary()"
   ]
  },
  {
   "cell_type": "code",
   "execution_count": 138,
   "metadata": {},
   "outputs": [
    {
     "name": "stdout",
     "output_type": "stream",
     "text": [
      "AIC de la régression linéaire complète : 395682.2\n",
      "BIC de la régression linéaire complète : 395804.2\n"
     ]
    }
   ],
   "source": [
    "# AIC et BIC du modèle complet sans données atypiques et influentes\n",
    "\n",
    "AIC_comp_atypique_influente = round(linreg_comp.aic, ndigits=1)\n",
    "BIC_comp_atypique_influente = round(linreg_comp.bic, ndigits=1)\n",
    "\n",
    "\n",
    "print('AIC de la régression linéaire complète :', AIC_comp_atypique_influente)\n",
    "print('BIC de la régression linéaire complète :', BIC_comp_atypique_influente)"
   ]
  },
  {
   "cell_type": "markdown",
   "metadata": {},
   "source": [
    "Le AIC et BIC diminuent quand on enlève les données atypiques et influentes : c'est cool"
   ]
  },
  {
   "cell_type": "markdown",
   "metadata": {},
   "source": [
    "### Diagnostic de colinéarité"
   ]
  },
  {
   "cell_type": "code",
   "execution_count": 139,
   "metadata": {},
   "outputs": [
    {
     "name": "stdout",
     "output_type": "stream",
     "text": [
      "                 Variables       VIF\n",
      "1              nb_chambres  1.720070\n",
      "2                   nb_sdb  3.073711\n",
      "3             m2_interieur  5.510342\n",
      "4               m2_soussol  1.958365\n",
      "5                nb_etages  2.194388\n",
      "6                  vue_mer  1.054003\n",
      "7                 vue_note  1.183673\n",
      "8                etat_note  1.299775\n",
      "9              design_note  2.937354\n",
      "10      annee_construction  2.588338\n",
      "11        annee_renovation  1.133467\n",
      "12  m2_interieur_15voisins  3.150337\n",
      "13     m2_jardin_15voisins  1.243481\n",
      "14                 zipcode  1.673147\n",
      "15                     lat  1.188277\n",
      "16                    long  1.919509\n"
     ]
    }
   ],
   "source": [
    "X = add_constant(data[['nb_chambres', 'nb_sdb', 'm2_interieur', 'm2_soussol', 'nb_etages', 'vue_mer', 'vue_note', 'etat_note', 'design_note', 'annee_construction', 'annee_renovation', 'm2_interieur_15voisins', 'm2_jardin_15voisins', 'zipcode', 'lat', 'long']])\n",
    "\n",
    "VIF = pd.DataFrame()\n",
    "VIF['Variables'] = X.columns\n",
    "VIF['VIF'] = [variance_inflation_factor(X.values, i) for i in range(len(X.columns))]\n",
    "print(VIF[1:len(X.columns)])"
   ]
  },
  {
   "cell_type": "markdown",
   "metadata": {},
   "source": [
    "Aucun VIF > 10, donc pas de problème de colinéarité. (Cool)"
   ]
  },
  {
   "cell_type": "markdown",
   "metadata": {},
   "source": [
    "## Sélection automatique de modèles de régression"
   ]
  },
  {
   "cell_type": "markdown",
   "metadata": {},
   "source": [
    "### Méthode Backward"
   ]
  },
  {
   "cell_type": "code",
   "execution_count": 140,
   "metadata": {},
   "outputs": [],
   "source": [
    "def linreg_backward_predictors(X, y, predictors, crit='BIC', verbose=True):\n",
    "    results = []\n",
    "\n",
    "    for combi in itertools.combinations(predictors, len(predictors)-1):\n",
    "        results.append(AIC_BIC_linreg(X=X, y=y, features=list(combi)+['const']))\n",
    "    models = pd.DataFrame(results)\n",
    "\n",
    "    if crit == 'AIC':\n",
    "        best_model = models.loc[models['AIC'].argmin()]\n",
    "    else:\n",
    "        best_model = models.loc[models['BIC'].argmin()]\n",
    "\n",
    "    if verbose == True:\n",
    "        print('Selected predictors:', best_model['model'].model.exog_names, 'AIC:', best_model['model'].aic, 'BIC:', best_model['model'].bic)\n",
    "\n",
    "    return best_model\n",
    "\n",
    "def linreg_backward_proc(X, y, crit='BIC', verbose=True):\n",
    "    backward_models = pd.DataFrame(columns=['AIC', 'BIC', 'model'])\n",
    "    predictors = list(X.columns.difference(['const']))\n",
    "\n",
    "    for i in range(1, len(X.columns.difference(['const'])) + 1):\n",
    "        backward_result = linreg_backward_predictors(X=X, y=y, predictors=predictors, crit=crit, verbose=verbose)\n",
    "        if i > 1:\n",
    "            if backward_result[crit] > backward_model_before:\n",
    "                break\n",
    "        backward_models.loc[i] = backward_result\n",
    "        predictors = backward_models.loc[i]['model'].model.exog_names\n",
    "        backward_model_before = backward_models.loc[i][crit]\n",
    "        predictors = [k for k in predictors if k != 'const']\n",
    "\n",
    "    return(backward_models['model'][len(backward_models['model'])])"
   ]
  },
  {
   "cell_type": "code",
   "execution_count": 141,
   "metadata": {},
   "outputs": [
    {
     "name": "stdout",
     "output_type": "stream",
     "text": [
      "Selected predictors: ['annee_construction', 'annee_renovation', 'design_note', 'etat_note', 'lat', 'long', 'm2_interieur', 'm2_interieur_15voisins', 'm2_jardin_15voisins', 'nb_chambres', 'nb_etages', 'nb_sdb', 'vue_mer', 'vue_note', 'zipcode', 'const'] AIC: 395680.58977913926 BIC: 395802.6324699013\n",
      "Selected predictors: ['annee_construction', 'annee_renovation', 'design_note', 'etat_note', 'lat', 'm2_interieur', 'm2_interieur_15voisins', 'm2_jardin_15voisins', 'nb_chambres', 'nb_etages', 'nb_sdb', 'vue_mer', 'vue_note', 'zipcode', 'const'] AIC: 395724.77204065205 BIC: 395839.18706324144\n"
     ]
    }
   ],
   "source": [
    "linreg_backward = linreg_backward_proc(add_constant(X_comp), Y, crit='BIC', verbose=True)"
   ]
  },
  {
   "cell_type": "code",
   "execution_count": 142,
   "metadata": {},
   "outputs": [
    {
     "name": "stdout",
     "output_type": "stream",
     "text": [
      "Backward Procedure \n",
      "\n",
      "Covariables issues de la sélection backward : ['annee_construction', 'annee_renovation', 'design_note', 'etat_note', 'lat', 'long', 'm2_interieur', 'm2_interieur_15voisins', 'm2_jardin_15voisins', 'nb_chambres', 'nb_etages', 'nb_sdb', 'vue_mer', 'vue_note', 'zipcode', 'const']\n",
      "Nombre de covariables issues de la sélection backward : 16\n",
      "AIC de la régression linéaire avec sélection backward : 395680.6\n",
      "BIC de la régression linéaire avec sélection backward : 395802.6\n"
     ]
    }
   ],
   "source": [
    "print('Backward Procedure \\n')\n",
    "\n",
    "AIC_backward = round(linreg_backward.aic, ndigits=1)\n",
    "BIC_backward = round(linreg_backward.bic, ndigits=1)\n",
    "\n",
    "print('Covariables issues de la sélection backward :', linreg_backward.model.exog_names)\n",
    "print('Nombre de covariables issues de la sélection backward :', linreg_backward.params.shape[0])\n",
    "print('AIC de la régression linéaire avec sélection backward :', AIC_backward)\n",
    "print('BIC de la régression linéaire avec sélection backward :', BIC_backward)"
   ]
  },
  {
   "cell_type": "markdown",
   "metadata": {},
   "source": [
    "### Méthode Forward"
   ]
  },
  {
   "cell_type": "code",
   "execution_count": 143,
   "metadata": {},
   "outputs": [],
   "source": [
    "def linreg_forward_predictors(X, y, predictors, crit='BIC', verbose=True):\n",
    "    results=[]\n",
    "    remaining_predictors = [p for p in X.columns.difference(['const']) if p not in predictors]\n",
    "\n",
    "    for p in remaining_predictors:\n",
    "        results.append(AIC_BIC_linreg(X=X, y=y, features=predictors+[p]+['const']))\n",
    "    models = pd.DataFrame(results)\n",
    "\n",
    "    if crit == 'AIC':\n",
    "        best_model = models.loc[models['AIC'].argmin()]\n",
    "    else:\n",
    "        best_model = models.loc[models['BIC'].argmin()]\n",
    "\n",
    "    if verbose == True:\n",
    "        print('Selected predictors:', best_model['model'].model.exog_names, 'AIC:', best_model['model'].aic, 'BIC:', best_model['model'].bic)\n",
    "\n",
    "    return best_model\n",
    "\n",
    "def linreg_forward_proc(X, y, crit='BIC', verbose=True):\n",
    "    forward_models = pd.DataFrame(columns=['AIC', 'BIC', 'model'])\n",
    "    predictors = []\n",
    "\n",
    "    for i in range(1, len(X.columns.difference(['const'])) + 1):\n",
    "        forward_result = linreg_forward_predictors(X=X, y=y, predictors=predictors, crit=crit, verbose=verbose)\n",
    "        if i > 1:\n",
    "            if forward_result[crit] > forward_model_before:\n",
    "                break\n",
    "        forward_models.loc[i] = forward_result\n",
    "        predictors = forward_models.loc[i]['model'].model.exog_names\n",
    "        forward_model_before = forward_models.loc[i][crit]\n",
    "        predictors = [k for k in predictors if k != 'const']\n",
    "\n",
    "    return(forward_models['model'][len(forward_models['model'])])"
   ]
  },
  {
   "cell_type": "code",
   "execution_count": 144,
   "metadata": {},
   "outputs": [
    {
     "name": "stdout",
     "output_type": "stream",
     "text": [
      "Selected predictors: ['design_note', 'const'] AIC: 408253.2000916891 BIC: 408268.45542803436\n",
      "Selected predictors: ['design_note', 'lat', 'const'] AIC: 404039.66233873914 BIC: 404062.545343257\n",
      "Selected predictors: ['design_note', 'lat', 'm2_interieur', 'const'] AIC: 401040.2032078727 BIC: 401070.7138805632\n",
      "Selected predictors: ['design_note', 'lat', 'm2_interieur', 'annee_construction', 'const'] AIC: 398467.03891211306 BIC: 398505.17725297617\n",
      "Selected predictors: ['design_note', 'lat', 'm2_interieur', 'annee_construction', 'vue_note', 'const'] AIC: 397304.7805052802 BIC: 397350.54651431594\n",
      "Selected predictors: ['design_note', 'lat', 'm2_interieur', 'annee_construction', 'vue_note', 'vue_mer', 'const'] AIC: 396934.8253018212 BIC: 396988.2189790296\n",
      "Selected predictors: ['design_note', 'lat', 'm2_interieur', 'annee_construction', 'vue_note', 'vue_mer', 'etat_note', 'const'] AIC: 396690.04061490425 BIC: 396751.0619602853\n",
      "Selected predictors: ['design_note', 'lat', 'm2_interieur', 'annee_construction', 'vue_note', 'vue_mer', 'etat_note', 'nb_etages', 'const'] AIC: 396449.45231389283 BIC: 396518.10132744646\n",
      "Selected predictors: ['design_note', 'lat', 'm2_interieur', 'annee_construction', 'vue_note', 'vue_mer', 'etat_note', 'nb_etages', 'm2_interieur_15voisins', 'const'] AIC: 396230.28038827394 BIC: 396306.5570700002\n",
      "Selected predictors: ['design_note', 'lat', 'm2_interieur', 'annee_construction', 'vue_note', 'vue_mer', 'etat_note', 'nb_etages', 'm2_interieur_15voisins', 'nb_sdb', 'const'] AIC: 396089.1804573983 BIC: 396173.0848072972\n",
      "Selected predictors: ['design_note', 'lat', 'm2_interieur', 'annee_construction', 'vue_note', 'vue_mer', 'etat_note', 'nb_etages', 'm2_interieur_15voisins', 'nb_sdb', 'zipcode', 'const'] AIC: 395992.11797314585 BIC: 396083.64999121736\n",
      "Selected predictors: ['design_note', 'lat', 'm2_interieur', 'annee_construction', 'vue_note', 'vue_mer', 'etat_note', 'nb_etages', 'm2_interieur_15voisins', 'nb_sdb', 'zipcode', 'nb_chambres', 'const'] AIC: 395888.75464958866 BIC: 395987.9143358328\n",
      "Selected predictors: ['design_note', 'lat', 'm2_interieur', 'annee_construction', 'vue_note', 'vue_mer', 'etat_note', 'nb_etages', 'm2_interieur_15voisins', 'nb_sdb', 'zipcode', 'nb_chambres', 'm2_jardin_15voisins', 'const'] AIC: 395783.1508095767 BIC: 395889.9381639935\n",
      "Selected predictors: ['design_note', 'lat', 'm2_interieur', 'annee_construction', 'vue_note', 'vue_mer', 'etat_note', 'nb_etages', 'm2_interieur_15voisins', 'nb_sdb', 'zipcode', 'nb_chambres', 'm2_jardin_15voisins', 'annee_renovation', 'const'] AIC: 395724.7720406521 BIC: 395839.1870632415\n",
      "Selected predictors: ['design_note', 'lat', 'm2_interieur', 'annee_construction', 'vue_note', 'vue_mer', 'etat_note', 'nb_etages', 'm2_interieur_15voisins', 'nb_sdb', 'zipcode', 'nb_chambres', 'm2_jardin_15voisins', 'annee_renovation', 'long', 'const'] AIC: 395680.5897791393 BIC: 395802.63246990135\n",
      "Selected predictors: ['design_note', 'lat', 'm2_interieur', 'annee_construction', 'vue_note', 'vue_mer', 'etat_note', 'nb_etages', 'm2_interieur_15voisins', 'nb_sdb', 'zipcode', 'nb_chambres', 'm2_jardin_15voisins', 'annee_renovation', 'long', 'm2_soussol', 'const'] AIC: 395682.5894668991 BIC: 395812.2598258338\n"
     ]
    }
   ],
   "source": [
    "linreg_forward = linreg_forward_proc(add_constant(X_comp), Y, crit='BIC', verbose=True)"
   ]
  },
  {
   "cell_type": "code",
   "execution_count": 145,
   "metadata": {},
   "outputs": [
    {
     "name": "stdout",
     "output_type": "stream",
     "text": [
      "Forward Procedure \n",
      "\n",
      "Covariables issues de la sélection forward : ['design_note', 'lat', 'm2_interieur', 'annee_construction', 'vue_note', 'vue_mer', 'etat_note', 'nb_etages', 'm2_interieur_15voisins', 'nb_sdb', 'zipcode', 'nb_chambres', 'm2_jardin_15voisins', 'annee_renovation', 'long', 'const']\n",
      "Nombre de covariables issues de la sélection forward : 16\n",
      "AIC de la régression linéaire avec sélection forward : 395680.6\n",
      "BIC de la régression linéaire avec sélection forward : 395802.6\n"
     ]
    }
   ],
   "source": [
    "print('Forward Procedure \\n')\n",
    "\n",
    "AIC_forward = round(linreg_forward.aic, ndigits=1)\n",
    "BIC_forward = round(linreg_forward.bic, ndigits=1)\n",
    "\n",
    "print('Covariables issues de la sélection forward :', linreg_forward.model.exog_names)\n",
    "print('Nombre de covariables issues de la sélection forward :', linreg_forward.params.shape[0])\n",
    "print('AIC de la régression linéaire avec sélection forward :', AIC_forward)\n",
    "print('BIC de la régression linéaire avec sélection forward :', BIC_forward)"
   ]
  },
  {
   "cell_type": "markdown",
   "metadata": {},
   "source": [
    "### Méthode Stepwise"
   ]
  },
  {
   "cell_type": "code",
   "execution_count": 146,
   "metadata": {},
   "outputs": [],
   "source": [
    "def linreg_stepwise_proc(X, y, crit='BIC', verbose=True):\n",
    "    stepwise_models = pd.DataFrame(columns=['AIC', 'BIC', 'model'])\n",
    "    predictors = []\n",
    "    stepwise_model_before = AIC_BIC_linreg(X, y, predictors+['const'])[crit]\n",
    "    \n",
    "    for i in range(1, len(X.columns.difference(['const'])) + 1):\n",
    "        forward_result = linreg_forward_predictors(X=X, y=y, predictors=predictors, crit=crit, verbose=verbose)\n",
    "        stepwise_models.loc[i] = forward_result\n",
    "        predictors = stepwise_models.loc[i]['model'].model.exog_names\n",
    "        predictors = [k for k in predictors if k != 'const']\n",
    "        backward_result = linreg_backward_predictors(X=X, y=y, predictors=predictors, crit=crit, verbose=verbose)\n",
    "        if backward_result[crit]< forward_result[crit]:\n",
    "            stepwise_models.loc[i] = backward_result\n",
    "            predictors = stepwise_models.loc[i]['model'].model.exog_names\n",
    "            stepwise_model_before = stepwise_models.loc[i][crit]\n",
    "            predictors = [k for k in predictors if k != 'const']\n",
    "        if stepwise_models.loc[i][crit]> stepwise_model_before:\n",
    "            break\n",
    "        else:\n",
    "            stepwise_model_before = stepwise_models.loc[i][crit]\n",
    "    return(stepwise_models['model'][len(stepwise_models['model'])])"
   ]
  },
  {
   "cell_type": "code",
   "execution_count": 147,
   "metadata": {},
   "outputs": [
    {
     "name": "stdout",
     "output_type": "stream",
     "text": [
      "Selected predictors: ['design_note', 'const'] AIC: 408253.2000916891 BIC: 408268.45542803436\n",
      "Selected predictors: ['const'] AIC: 417312.63374624174 BIC: 417320.2614144144\n",
      "Selected predictors: ['design_note', 'lat', 'const'] AIC: 404039.66233873914 BIC: 404062.545343257\n",
      "Selected predictors: ['design_note', 'const'] AIC: 408253.2000916891 BIC: 408268.45542803436\n",
      "Selected predictors: ['design_note', 'lat', 'm2_interieur', 'const'] AIC: 401040.2032078727 BIC: 401070.7138805632\n",
      "Selected predictors: ['lat', 'm2_interieur', 'const'] AIC: 403485.25383290055 BIC: 403508.1368374184\n",
      "Selected predictors: ['design_note', 'lat', 'm2_interieur', 'annee_construction', 'const'] AIC: 398467.03891211306 BIC: 398505.17725297617\n",
      "Selected predictors: ['design_note', 'lat', 'm2_interieur', 'const'] AIC: 401040.2032078727 BIC: 401070.7138805632\n",
      "Selected predictors: ['design_note', 'lat', 'm2_interieur', 'annee_construction', 'vue_note', 'const'] AIC: 397304.7805052802 BIC: 397350.54651431594\n",
      "Selected predictors: ['design_note', 'lat', 'm2_interieur', 'annee_construction', 'const'] AIC: 398467.03891211306 BIC: 398505.17725297617\n",
      "Selected predictors: ['design_note', 'lat', 'm2_interieur', 'annee_construction', 'vue_note', 'vue_mer', 'const'] AIC: 396934.8253018212 BIC: 396988.2189790296\n",
      "Selected predictors: ['design_note', 'lat', 'm2_interieur', 'annee_construction', 'vue_note', 'const'] AIC: 397304.7805052802 BIC: 397350.54651431594\n",
      "Selected predictors: ['design_note', 'lat', 'm2_interieur', 'annee_construction', 'vue_note', 'vue_mer', 'etat_note', 'const'] AIC: 396690.04061490425 BIC: 396751.0619602853\n",
      "Selected predictors: ['design_note', 'lat', 'm2_interieur', 'annee_construction', 'vue_note', 'vue_mer', 'const'] AIC: 396934.8253018212 BIC: 396988.2189790296\n",
      "Selected predictors: ['design_note', 'lat', 'm2_interieur', 'annee_construction', 'vue_note', 'vue_mer', 'etat_note', 'nb_etages', 'const'] AIC: 396449.45231389283 BIC: 396518.10132744646\n",
      "Selected predictors: ['design_note', 'lat', 'm2_interieur', 'annee_construction', 'vue_note', 'vue_mer', 'etat_note', 'const'] AIC: 396690.04061490425 BIC: 396751.0619602853\n",
      "Selected predictors: ['design_note', 'lat', 'm2_interieur', 'annee_construction', 'vue_note', 'vue_mer', 'etat_note', 'nb_etages', 'm2_interieur_15voisins', 'const'] AIC: 396230.28038827394 BIC: 396306.5570700002\n",
      "Selected predictors: ['design_note', 'lat', 'm2_interieur', 'annee_construction', 'vue_note', 'vue_mer', 'etat_note', 'nb_etages', 'const'] AIC: 396449.45231389283 BIC: 396518.10132744646\n",
      "Selected predictors: ['design_note', 'lat', 'm2_interieur', 'annee_construction', 'vue_note', 'vue_mer', 'etat_note', 'nb_etages', 'm2_interieur_15voisins', 'nb_sdb', 'const'] AIC: 396089.1804573983 BIC: 396173.0848072972\n",
      "Selected predictors: ['design_note', 'lat', 'm2_interieur', 'annee_construction', 'vue_note', 'vue_mer', 'etat_note', 'nb_etages', 'm2_interieur_15voisins', 'const'] AIC: 396230.28038827394 BIC: 396306.5570700002\n",
      "Selected predictors: ['design_note', 'lat', 'm2_interieur', 'annee_construction', 'vue_note', 'vue_mer', 'etat_note', 'nb_etages', 'm2_interieur_15voisins', 'nb_sdb', 'zipcode', 'const'] AIC: 395992.11797314585 BIC: 396083.64999121736\n",
      "Selected predictors: ['design_note', 'lat', 'm2_interieur', 'annee_construction', 'vue_note', 'vue_mer', 'etat_note', 'nb_etages', 'm2_interieur_15voisins', 'nb_sdb', 'const'] AIC: 396089.1804573983 BIC: 396173.0848072972\n",
      "Selected predictors: ['design_note', 'lat', 'm2_interieur', 'annee_construction', 'vue_note', 'vue_mer', 'etat_note', 'nb_etages', 'm2_interieur_15voisins', 'nb_sdb', 'zipcode', 'nb_chambres', 'const'] AIC: 395888.75464958866 BIC: 395987.9143358328\n",
      "Selected predictors: ['design_note', 'lat', 'm2_interieur', 'annee_construction', 'vue_note', 'vue_mer', 'etat_note', 'nb_etages', 'm2_interieur_15voisins', 'nb_sdb', 'zipcode', 'const'] AIC: 395992.11797314585 BIC: 396083.64999121736\n",
      "Selected predictors: ['design_note', 'lat', 'm2_interieur', 'annee_construction', 'vue_note', 'vue_mer', 'etat_note', 'nb_etages', 'm2_interieur_15voisins', 'nb_sdb', 'zipcode', 'nb_chambres', 'm2_jardin_15voisins', 'const'] AIC: 395783.1508095767 BIC: 395889.9381639935\n",
      "Selected predictors: ['design_note', 'lat', 'm2_interieur', 'annee_construction', 'vue_note', 'vue_mer', 'etat_note', 'nb_etages', 'm2_interieur_15voisins', 'nb_sdb', 'zipcode', 'nb_chambres', 'const'] AIC: 395888.75464958866 BIC: 395987.9143358328\n",
      "Selected predictors: ['design_note', 'lat', 'm2_interieur', 'annee_construction', 'vue_note', 'vue_mer', 'etat_note', 'nb_etages', 'm2_interieur_15voisins', 'nb_sdb', 'zipcode', 'nb_chambres', 'm2_jardin_15voisins', 'annee_renovation', 'const'] AIC: 395724.7720406521 BIC: 395839.1870632415\n",
      "Selected predictors: ['design_note', 'lat', 'm2_interieur', 'annee_construction', 'vue_note', 'vue_mer', 'etat_note', 'nb_etages', 'm2_interieur_15voisins', 'nb_sdb', 'zipcode', 'nb_chambres', 'm2_jardin_15voisins', 'const'] AIC: 395783.1508095767 BIC: 395889.9381639935\n",
      "Selected predictors: ['design_note', 'lat', 'm2_interieur', 'annee_construction', 'vue_note', 'vue_mer', 'etat_note', 'nb_etages', 'm2_interieur_15voisins', 'nb_sdb', 'zipcode', 'nb_chambres', 'm2_jardin_15voisins', 'annee_renovation', 'long', 'const'] AIC: 395680.5897791393 BIC: 395802.63246990135\n",
      "Selected predictors: ['design_note', 'lat', 'm2_interieur', 'annee_construction', 'vue_note', 'vue_mer', 'etat_note', 'nb_etages', 'm2_interieur_15voisins', 'nb_sdb', 'zipcode', 'nb_chambres', 'm2_jardin_15voisins', 'annee_renovation', 'const'] AIC: 395724.7720406521 BIC: 395839.1870632415\n",
      "Selected predictors: ['design_note', 'lat', 'm2_interieur', 'annee_construction', 'vue_note', 'vue_mer', 'etat_note', 'nb_etages', 'm2_interieur_15voisins', 'nb_sdb', 'zipcode', 'nb_chambres', 'm2_jardin_15voisins', 'annee_renovation', 'long', 'm2_soussol', 'const'] AIC: 395682.5894668991 BIC: 395812.2598258338\n",
      "Selected predictors: ['design_note', 'lat', 'm2_interieur', 'annee_construction', 'vue_note', 'vue_mer', 'etat_note', 'nb_etages', 'm2_interieur_15voisins', 'nb_sdb', 'zipcode', 'nb_chambres', 'm2_jardin_15voisins', 'annee_renovation', 'long', 'const'] AIC: 395680.5897791393 BIC: 395802.63246990135\n"
     ]
    }
   ],
   "source": [
    "linreg_stepwise = linreg_stepwise_proc(add_constant(X_comp), Y, crit='BIC', verbose=True)"
   ]
  },
  {
   "cell_type": "code",
   "execution_count": 148,
   "metadata": {},
   "outputs": [
    {
     "name": "stdout",
     "output_type": "stream",
     "text": [
      "Stepwise Procedure \n",
      "\n",
      "Covariables issues de la sélection stepwise : ['design_note', 'lat', 'm2_interieur', 'annee_construction', 'vue_note', 'vue_mer', 'etat_note', 'nb_etages', 'm2_interieur_15voisins', 'nb_sdb', 'zipcode', 'nb_chambres', 'm2_jardin_15voisins', 'annee_renovation', 'long', 'const']\n",
      "Nombre de covariables issues de la sélection stepwise : 16\n",
      "AIC de la régression linéaire avec sélection stepwise : 395680.6\n",
      "BIC de la régression linéaire avec sélection stepwise : 395802.6\n"
     ]
    }
   ],
   "source": [
    "print('Stepwise Procedure \\n')\n",
    "\n",
    "AIC_stepwise = round(linreg_stepwise.aic, ndigits=1)\n",
    "BIC_stepwise = round(linreg_stepwise.bic, ndigits=1)\n",
    "\n",
    "print('Covariables issues de la sélection stepwise :', linreg_stepwise.model.exog_names)\n",
    "print('Nombre de covariables issues de la sélection stepwise :', linreg_stepwise.params.shape[0])\n",
    "print('AIC de la régression linéaire avec sélection stepwise :', AIC_stepwise)\n",
    "print('BIC de la régression linéaire avec sélection stepwise :', BIC_stepwise)"
   ]
  },
  {
   "cell_type": "markdown",
   "metadata": {},
   "source": [
    "## Evaluation des modèles"
   ]
  },
  {
   "cell_type": "markdown",
   "metadata": {},
   "source": [
    "On considère deux modèles : le modèle complet et le modèle backward (équivalent à forward et stepwise)."
   ]
  },
  {
   "cell_type": "code",
   "execution_count": 149,
   "metadata": {},
   "outputs": [],
   "source": [
    "def separation(X_comp, Y):\n",
    "  apprent = np.random.binomial(n=1, p=0.2, size=data.shape[0])\n",
    "\n",
    "  X_train = X_comp[apprent == 0]\n",
    "  Y_train = Y[apprent == 0]\n",
    "\n",
    "  X_test = X_comp[apprent == 1]\n",
    "  Y_test = Y[apprent == 1]\n",
    "  return(X_train, Y_train, X_test, Y_test)"
   ]
  },
  {
   "cell_type": "markdown",
   "metadata": {},
   "source": [
    "#### Modèle complet"
   ]
  },
  {
   "cell_type": "markdown",
   "metadata": {},
   "source": [
    "##### Erreur moyenne de prédiction"
   ]
  },
  {
   "cell_type": "code",
   "execution_count": 150,
   "metadata": {},
   "outputs": [
    {
     "name": "stdout",
     "output_type": "stream",
     "text": [
      "Moyenne de AIC = 316392.03\n",
      "Moyenne de BIC = 316510.49\n"
     ]
    }
   ],
   "source": [
    "AIC=[]\n",
    "BIC=[]\n",
    "\n",
    "for i in range(100):\n",
    "  X_train,Y_train,X_test,Y_test = separation(X_comp,Y)\n",
    "  linreg = OLS(Y_train, X_train)\n",
    "  linreg = linreg.fit()\n",
    "  AIC.append(linreg.aic)\n",
    "  BIC.append(linreg.bic)\n",
    "\n",
    "AIC_mean = np.mean(AIC)\n",
    "BIC_mean = np.mean(BIC)\n",
    "\n",
    "print('Moyenne de AIC =', round(AIC_mean,ndigits=2) )\n",
    "print('Moyenne de BIC =', round(BIC_mean,ndigits=2) )"
   ]
  },
  {
   "cell_type": "code",
   "execution_count": 151,
   "metadata": {},
   "outputs": [
    {
     "name": "stdout",
     "output_type": "stream",
     "text": [
      "Mean percentage difference: 0.04 %\n"
     ]
    }
   ],
   "source": [
    "prediction_percentage_error = []\n",
    "\n",
    "for i in range(100):\n",
    "    X_train, Y_train, X_test, Y_test = separation(X_comp, Y)\n",
    "    reg = LinearRegression().fit(X_train, Y_train)\n",
    "    Y_pred = reg.predict(X_test)\n",
    "\n",
    "    mean_predicted_price = np.mean(Y_pred)\n",
    "    mean_actual_price = np.mean(Y)\n",
    "\n",
    "    prediction_percentage_error.append((mean_predicted_price - mean_actual_price) / mean_actual_price * 100)\n",
    "\n",
    "print(\"Mean percentage difference:\", round(np.mean(prediction_percentage_error),2), '%')\n"
   ]
  },
  {
   "cell_type": "markdown",
   "metadata": {},
   "source": [
    "##### Calcul des RMSE et MAPE"
   ]
  },
  {
   "cell_type": "code",
   "execution_count": 152,
   "metadata": {},
   "outputs": [],
   "source": [
    "def separation_complet(X_comp, Y):\n",
    "    X_train, Y_train, X_test, Y_test = separation(X_comp, Y)\n",
    "    reg = LinearRegression().fit(X_train, Y_train)\n",
    "    Y_pred = reg.predict(X_test)\n",
    "    RMSE = np.sqrt(mean_squared_error(Y_test, Y_pred))\n",
    "    MAPE = mean_absolute_percentage_error(Y_test, Y_pred)*100\n",
    "\n",
    "    return(np.array([RMSE, MAPE]))"
   ]
  },
  {
   "cell_type": "code",
   "execution_count": 153,
   "metadata": {},
   "outputs": [
    {
     "name": "stdout",
     "output_type": "stream",
     "text": [
      "Moyenne du RMSE = 110641.13\n",
      "Moyenne du MAPE = 19.62\n",
      "Ecart-type du RMSE = 1358.24\n",
      "Ecart-type du MAPE = 0.27\n"
     ]
    }
   ],
   "source": [
    "RMSE=[]\n",
    "MAPE=[]\n",
    "for i in range(100):\n",
    "  RMSE.append(separation_complet(X_comp, Y)[0])\n",
    "  MAPE.append(separation_complet(X_comp, Y)[1])\n",
    "print('Moyenne du RMSE =', round(np.mean(RMSE),ndigits=2) )\n",
    "print('Moyenne du MAPE =', round(np.mean(MAPE),ndigits=2) )\n",
    "print('Ecart-type du RMSE =', round(np.std(RMSE),ndigits=2) )\n",
    "print('Ecart-type du MAPE =', round(np.std(MAPE),ndigits=2) )"
   ]
  },
  {
   "cell_type": "markdown",
   "metadata": {},
   "source": [
    "#### Modèle Backward ( = Forward = Stepwise)"
   ]
  },
  {
   "cell_type": "markdown",
   "metadata": {},
   "source": [
    "##### Erreur moyenne de prédiciton"
   ]
  },
  {
   "cell_type": "code",
   "execution_count": 154,
   "metadata": {},
   "outputs": [
    {
     "name": "stdout",
     "output_type": "stream",
     "text": [
      "Moyenne de AIC = 316891.26\n",
      "Moyenne de BIC = 317009.75\n"
     ]
    }
   ],
   "source": [
    "AIC=[]\n",
    "BIC=[]\n",
    "for i in range(100):\n",
    "  X_train,Y_train,X_test,Y_test = separation(X_comp,Y)\n",
    "  reg = linreg_backward_proc(add_constant(X_train), Y_train, crit='BIC', verbose=False)\n",
    "  AIC.append(reg.aic)\n",
    "  BIC.append(reg.bic)\n",
    "\n",
    "AIC_mean = np.mean(AIC)\n",
    "BIC_mean = np.mean(BIC)\n",
    "\n",
    "print('Moyenne de AIC =', round(AIC_mean,ndigits=2) )\n",
    "print('Moyenne de BIC =', round(BIC_mean,ndigits=2) )"
   ]
  },
  {
   "cell_type": "markdown",
   "metadata": {},
   "source": [
    "**AIC et BIC qui sont honorables mais GROS PROBLEMES de prédiction et sur les valeurs des RMSE et MAPE**"
   ]
  },
  {
   "cell_type": "code",
   "execution_count": 155,
   "metadata": {},
   "outputs": [
    {
     "name": "stdout",
     "output_type": "stream",
     "text": [
      "Selected predictors: ['annee_construction', 'annee_renovation', 'design_note', 'etat_note', 'lat', 'long', 'm2_interieur', 'm2_interieur_15voisins', 'm2_jardin_15voisins', 'nb_chambres', 'nb_etages', 'nb_sdb', 'vue_mer', 'vue_note', 'zipcode', 'const'] AIC: 318190.42080591404 BIC: 318308.9744216393\n",
      "Selected predictors: ['annee_construction', 'annee_renovation', 'design_note', 'etat_note', 'lat', 'm2_interieur', 'm2_interieur_15voisins', 'm2_jardin_15voisins', 'nb_chambres', 'nb_etages', 'nb_sdb', 'vue_mer', 'vue_note', 'zipcode', 'const'] AIC: 318224.7491212299 BIC: 318335.8931359723\n",
      "\u001b[1;31mPROBLEME\u001b[0m\n",
      "Mean Predicted Price: 5894120267.2\n",
      "Mean Actual Price: 487066.1\n",
      "Mean percentage difference: 11980.51 %\n"
     ]
    }
   ],
   "source": [
    "X_train, Y_train, X_test, Y_test = separation(X_comp, Y)\n",
    "\n",
    "reg = linreg_backward_proc(add_constant(X_train), Y_train, crit='BIC', verbose=True)\n",
    "\n",
    "Y_pred = reg.predict(X_test)\n",
    "\n",
    "mean_predicted_price = np.mean(Y_pred)\n",
    "mean_actual_price = np.mean(Y)\n",
    "\n",
    "prediction_percentage_error.append((mean_predicted_price - mean_actual_price) / mean_actual_price * 100)\n",
    "\n",
    "print('\\033[1;31mPROBLEME\\033[0m')\n",
    "\n",
    "print(\"Mean Predicted Price:\", round(mean_predicted_price,2))\n",
    "print(\"Mean Actual Price:\", round(mean_actual_price,2))\n",
    "print(\"Mean percentage difference:\", round(np.mean(prediction_percentage_error),2), '%')"
   ]
  },
  {
   "cell_type": "code",
   "execution_count": 156,
   "metadata": {},
   "outputs": [
    {
     "name": "stdout",
     "output_type": "stream",
     "text": [
      "\u001b[1;31mPROBLEME\u001b[0m\n"
     ]
    },
    {
     "name": "stdout",
     "output_type": "stream",
     "text": [
      "[6.40255670e+09 1.61877867e+06]\n"
     ]
    }
   ],
   "source": [
    "def separation_backward(X_comp, Y):\n",
    "    X_train, Y_train, X_test, Y_test = separation(X_comp, Y)\n",
    "    reg = linreg_backward_proc(add_constant(X_train), Y_train, crit='BIC', verbose=False)\n",
    "    Y_pred = reg.predict(X_test)\n",
    "\n",
    "    RMSE = np.sqrt(mean_squared_error(Y_test, Y_pred))\n",
    "    MAPE = mean_absolute_percentage_error(Y_test, Y_pred)*100\n",
    "\n",
    "    return(np.array([RMSE, MAPE]))\n",
    "\n",
    "print('\\033[1;31mPROBLEME\\033[0m')\n",
    "\n",
    "print(separation_backward(X_comp, Y))"
   ]
  },
  {
   "cell_type": "code",
   "execution_count": 157,
   "metadata": {},
   "outputs": [
    {
     "name": "stdout",
     "output_type": "stream",
     "text": [
      "Moyenne du RMSE = 6108622504.68\n",
      "Moyenne du MAPE = 1524505.11\n",
      "Ecart-type du RMSE = 161288731.86\n",
      "Ecart-type du MAPE = 45518.63\n"
     ]
    }
   ],
   "source": [
    "RMSE = []\n",
    "MAPE = []\n",
    "\n",
    "for i in range(100):\n",
    "    RMSE.append(separation_backward(X_comp, Y)[0])\n",
    "    MAPE.append(separation_backward(X_comp, Y)[1])\n",
    "\n",
    "print('Moyenne du RMSE =', round(np.mean(RMSE),ndigits=2) )\n",
    "print('Moyenne du MAPE =', round(np.mean(MAPE),ndigits=2) )\n",
    "print('Ecart-type du RMSE =', round(np.std(RMSE),ndigits=2) )\n",
    "print('Ecart-type du MAPE =', round(np.std(MAPE),ndigits=2) )"
   ]
  },
  {
   "cell_type": "markdown",
   "metadata": {},
   "source": [
    "## Comparaison des modèles"
   ]
  },
  {
   "cell_type": "markdown",
   "metadata": {},
   "source": [
    "### Comparaion du AIC et BIC"
   ]
  },
  {
   "cell_type": "code",
   "execution_count": 158,
   "metadata": {},
   "outputs": [
    {
     "name": "stdout",
     "output_type": "stream",
     "text": [
      "Modèle complet avec données atypiques et influentes retirées \n",
      "\n",
      "AIC : 395682.2\n",
      "BIC : 395804.2 \n",
      "\n",
      "Modèle complet avec sélection backward \n",
      "\n",
      "AIC : 395680.6\n",
      "BIC : 395802.6 \n",
      "\n",
      "Modèle complet avec sélection forward \n",
      "\n",
      "AIC : 395680.6\n",
      "BIC : 395802.6 \n",
      "\n",
      "Modèle complet avec sélection stepwise \n",
      "\n",
      "AIC : 395680.6\n",
      "BIC : 395802.6\n"
     ]
    }
   ],
   "source": [
    "# Modèle Complet avec données atypiques et influentes retirées\n",
    "\n",
    "print('Modèle complet avec données atypiques et influentes retirées \\n')\n",
    "print('AIC :', AIC_comp_atypique_influente)\n",
    "print('BIC :', BIC_comp_atypique_influente,'\\n')\n",
    "\n",
    "# Modèle Complet avec sélection backward\n",
    "\n",
    "print('Modèle complet avec sélection backward \\n')\n",
    "print('AIC :', AIC_backward)\n",
    "print('BIC :', BIC_backward,'\\n')\n",
    "\n",
    "# Modèle Complet avec sélection forward\n",
    "\n",
    "print('Modèle complet avec sélection forward \\n')\n",
    "print('AIC :', AIC_forward)\n",
    "print('BIC :', BIC_forward,'\\n')\n",
    "\n",
    "# Modèle Complet avec sélection stepwise\n",
    "\n",
    "print('Modèle complet avec sélection stepwise \\n')\n",
    "print('AIC :', AIC_stepwise)\n",
    "print('BIC :', BIC_stepwise)"
   ]
  },
  {
   "cell_type": "markdown",
   "metadata": {},
   "source": [
    "Backward, forward et stepwise sont exactement equivalents. \n",
    "\n",
    "Le modèle obtenu par la sélection backward offre un meilleur ajustement aux données tout en étant moins complexe que le modèle complet (car AIC et BIC plus faible). La différence reste très faible et pas très significative."
   ]
  },
  {
   "cell_type": "markdown",
   "metadata": {},
   "source": [
    "## Prédiction avec le modèle OLS"
   ]
  },
  {
   "cell_type": "code",
   "execution_count": 160,
   "metadata": {},
   "outputs": [
    {
     "name": "stdout",
     "output_type": "stream",
     "text": [
      "                                 OLS Regression Results                                \n",
      "=======================================================================================\n",
      "Dep. Variable:                   prix   R-squared (uncentered):                   0.958\n",
      "Model:                            OLS   Adj. R-squared (uncentered):              0.957\n",
      "Method:                 Least Squares   F-statistic:                          2.137e+04\n",
      "Date:                Wed, 03 Apr 2024   Prob (F-statistic):                        0.00\n",
      "Time:                        19:45:03   Log-Likelihood:                     -1.9783e+05\n",
      "No. Observations:               15179   AIC:                                  3.957e+05\n",
      "Df Residuals:                   15163   BIC:                                  3.958e+05\n",
      "Df Model:                          16                                                  \n",
      "Covariance Type:            nonrobust                                                  \n",
      "==========================================================================================\n",
      "                             coef    std err          t      P>|t|      [0.025      0.975]\n",
      "------------------------------------------------------------------------------------------\n",
      "nb_chambres            -1.523e+04   1403.542    -10.850      0.000    -1.8e+04   -1.25e+04\n",
      "nb_sdb                  2.521e+04   2265.592     11.126      0.000    2.08e+04    2.96e+04\n",
      "m2_interieur            1033.2188     30.292     34.109      0.000     973.843    1092.595\n",
      "m2_soussol                 7.1396     33.620      0.212      0.832     -58.760      73.039\n",
      "nb_etages               2.796e+04   2442.174     11.449      0.000    2.32e+04    3.27e+04\n",
      "vue_mer                 5.342e+05   2.76e+04     19.373      0.000     4.8e+05    5.88e+05\n",
      "vue_note                5.441e+04   1850.380     29.403      0.000    5.08e+04     5.8e+04\n",
      "etat_note               2.899e+04   1601.095     18.108      0.000    2.59e+04    3.21e+04\n",
      "design_note             8.734e+04   1524.287     57.296      0.000    8.43e+04    9.03e+04\n",
      "annee_construction     -2044.3789     46.797    -43.686      0.000   -2136.106   -1952.652\n",
      "annee_renovation          21.2329      2.657      7.991      0.000      16.025      26.441\n",
      "m2_interieur_15voisins   430.4333     27.289     15.773      0.000     376.944     483.922\n",
      "m2_jardin_15voisins      -10.1048      1.106     -9.132      0.000     -12.274      -7.936\n",
      "zipcode                 -308.9836     12.186    -25.357      0.000    -332.869    -285.099\n",
      "lat                     5.581e+05   7023.074     79.469      0.000    5.44e+05    5.72e+05\n",
      "long                   -5.887e+04   8963.093     -6.568      0.000   -7.64e+04   -4.13e+04\n",
      "==============================================================================\n",
      "Omnibus:                      991.040   Durbin-Watson:                   2.022\n",
      "Prob(Omnibus):                  0.000   Jarque-Bera (JB):             1473.838\n",
      "Skew:                           0.550   Prob(JB):                         0.00\n",
      "Kurtosis:                       4.058   Cond. No.                     3.01e+06\n",
      "==============================================================================\n",
      "\n",
      "Notes:\n",
      "[1] R² is computed without centering (uncentered) since the model does not contain a constant.\n",
      "[2] Standard Errors assume that the covariance matrix of the errors is correctly specified.\n",
      "[3] The condition number is large, 3.01e+06. This might indicate that there are\n",
      "strong multicollinearity or other numerical problems.\n",
      "[549, 1881, 2215, 2915]\n",
      "Indices des prix négatifs : [47, 48, 550, 1259, 1696, 2005, 3115, 3372]\n",
      "Nombre de prix négatifs : 8\n",
      "Nouveau nombre de prix négatifs : 0\n"
     ]
    }
   ],
   "source": [
    "print(linreg_comp.summary())\n",
    "\n",
    "# Chargement de la base de données de test test_cleaned\n",
    "\n",
    "data_test = pd.read_csv('Data/test_cleaned.csv')\n",
    "\n",
    "# Prédiction du prix avec le modèle complet linreg_comp\n",
    "\n",
    "X_test = data_test[var_X_comp]\n",
    "Y_pred = linreg_comp.predict(X_test)\n",
    "\n",
    "# Insertion des données retirées lors du nettoyage de BDD cleaned\n",
    "\n",
    "test = pd.read_csv('Data/test_data.csv')\n",
    "\n",
    "index_nb_chambres_list = test[test['nb_chambres'].isna()].index.to_list()\n",
    "index_nb_chambres_list += test[test['nb_chambres'] == 0].index.to_list()\n",
    "index_nb_sdb_list = test[test['nb_sdb'].isna()].index.to_list()\n",
    "index_nb_sdb_list += test[test['nb_sdb'] == 0].index.to_list()\n",
    "\n",
    "index_nb_chambres_sdb = list(set(index_nb_chambres_list + index_nb_sdb_list))\n",
    "index_nb_chambres_sdb.sort()\n",
    "\n",
    "print(index_nb_chambres_sdb)\n",
    "\n",
    "mean_price = np.mean(data['prix'])\n",
    "\n",
    "\n",
    "# Remplacement des valeurs manquantes par la moyenne des prix\n",
    "\n",
    "for i in index_nb_chambres_sdb:\n",
    "    Y_pred_left = Y_pred[:i]\n",
    "    Y_pred_right = Y_pred[i:]\n",
    "    Y_pred = np.concatenate((Y_pred_left, [mean_price], Y_pred_right))\n",
    "\n",
    "# Compte les prix négatifs\n",
    "\n",
    "nb_negatif = np.sum(Y_pred < 0)\n",
    "index_negative = np.where(Y_pred < 0)[0].tolist()\n",
    "\n",
    "print('Indices des prix négatifs :', index_negative)\n",
    "\n",
    "print('Nombre de prix négatifs :', nb_negatif)\n",
    "\n",
    "# Remplacement des prix négatifs par la moyenne des prix\n",
    "\n",
    "mean_price = np.mean(data['prix'])\n",
    "\n",
    "for i in index_negative:\n",
    "    Y_pred[i] = mean_price\n",
    "\n",
    "print('Nouveau nombre de prix négatifs :', np.sum(Y_pred < 0))\n",
    "\n",
    "# Exportation des prédictions dans un fichier csv avec l'id de la vente et le prix\n",
    "\n",
    "data_test_raw = pd.read_csv('Data/test_data.csv')\n",
    "data_test_raw['prix'] = Y_pred\n",
    "data_test_raw[['id', 'prix']].to_csv('Data/predictions_with_OLS.csv', index=False)"
   ]
  }
 ],
 "metadata": {
  "kernelspec": {
   "display_name": "Python 3",
   "language": "python",
   "name": "python3"
  },
  "language_info": {
   "codemirror_mode": {
    "name": "ipython",
    "version": 3
   },
   "file_extension": ".py",
   "mimetype": "text/x-python",
   "name": "python",
   "nbconvert_exporter": "python",
   "pygments_lexer": "ipython3",
   "version": "3.9.6"
  }
 },
 "nbformat": 4,
 "nbformat_minor": 2
}
