{
 "cells": [
  {
   "cell_type": "markdown",
   "metadata": {},
   "source": [
    "# Feature engineering\n",
    "\n",
    "L'objectif de ce notebook est d'extraire des données exploitables afin d'améliorer les prédictions. Les données finales seront exportées dans *train_cleaned_feat.csv* et *test_cleaned_feat.csv*."
   ]
  },
  {
   "cell_type": "markdown",
   "metadata": {},
   "source": [
    "## Ajout de la saisonalité et de l'avancer des jours\n",
    "\n",
    "Deux données peuvent être exploité à partir de la date :\n",
    "\n",
    "- La saisonalité, en appliquant le cosinus au numéro du mois. Si le prix varie en fonction de la saison, cette donnée permettra de le prendre en compte.\n",
    "\n",
    "- Le décompte des jours depuis la première vente. S'il y a un phénomène d'inflation (sur cette période, nos recherche nous ont indiqué jusqu'à 4%), cette donnée permettra de le prendre en compte."
   ]
  },
  {
   "cell_type": "markdown",
   "metadata": {},
   "source": [
    "### Modification des données d'entrainement"
   ]
  },
  {
   "cell_type": "code",
   "execution_count": 1,
   "metadata": {},
   "outputs": [],
   "source": [
    "import numpy as np\n",
    "import pandas as pd\n",
    "\n",
    "train = pd.read_csv('Data/train_cleaned_no_outlier.csv')\n",
    "train_feature_eng = train.copy()\n",
    "\n",
    "train_feature_eng['cos_month'] = np.cos((2*np.pi/12)*pd.to_datetime(train_feature_eng['date']).dt.month)\n",
    "train_feature_eng['day_count'] = (pd.to_datetime(train_feature_eng['date']) - pd.to_datetime(train_feature_eng['date'].min())).dt.days\n",
    "\n",
    "train_feature_eng.to_csv('Data/train_cleaned_no_outlier_feat.csv', index=False)"
   ]
  },
  {
   "cell_type": "code",
   "execution_count": null,
   "metadata": {},
   "outputs": [],
   "source": []
  }
 ],
 "metadata": {
  "kernelspec": {
   "display_name": "ISDO",
   "language": "python",
   "name": "python3"
  },
  "language_info": {
   "codemirror_mode": {
    "name": "ipython",
    "version": 3
   },
   "file_extension": ".py",
   "mimetype": "text/x-python",
   "name": "python",
   "nbconvert_exporter": "python",
   "pygments_lexer": "ipython3",
   "version": "3.11.2"
  }
 },
 "nbformat": 4,
 "nbformat_minor": 2
}
