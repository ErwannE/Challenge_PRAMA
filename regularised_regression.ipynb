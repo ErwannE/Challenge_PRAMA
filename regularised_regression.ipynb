{
 "cells": [
  {
   "cell_type": "markdown",
   "metadata": {},
   "source": [
    "### Régression régularisée\n"
   ]
  },
  {
   "cell_type": "code",
   "execution_count": 4,
   "metadata": {},
   "outputs": [],
   "source": [
    "import pandas as pd\n",
    "from sklearn.linear_model import Ridge, Lasso\n",
    "from sklearn.model_selection import train_test_split"
   ]
  },
  {
   "cell_type": "code",
   "execution_count": 5,
   "metadata": {},
   "outputs": [
    {
     "name": "stdout",
     "output_type": "stream",
     "text": [
      "<class 'pandas.core.frame.DataFrame'>\n",
      "RangeIndex: 17135 entries, 0 to 17134\n",
      "Data columns (total 23 columns):\n",
      " #   Column                  Non-Null Count  Dtype  \n",
      "---  ------                  --------------  -----  \n",
      " 0   id                      17135 non-null  int64  \n",
      " 1   date                    17135 non-null  object \n",
      " 2   prix                    17135 non-null  int64  \n",
      " 3   nb_chambres             17135 non-null  int64  \n",
      " 4   nb_sdb                  17135 non-null  float64\n",
      " 5   m2_interieur            17135 non-null  float64\n",
      " 6   m2_jardin               17135 non-null  float64\n",
      " 7   m2_etage                17135 non-null  float64\n",
      " 8   m2_soussol              17135 non-null  float64\n",
      " 9   nb_etages               17135 non-null  float64\n",
      " 10  vue_mer                 17135 non-null  int64  \n",
      " 11  vue_note                17135 non-null  int64  \n",
      " 12  etat_note               17135 non-null  int64  \n",
      " 13  design_note             17135 non-null  int64  \n",
      " 14  annee_construction      17135 non-null  int64  \n",
      " 15  annee_renovation        17135 non-null  int64  \n",
      " 16  m2_interieur_15voisins  17135 non-null  float64\n",
      " 17  m2_jardin_15voisins     17135 non-null  float64\n",
      " 18  zipcode                 17135 non-null  int64  \n",
      " 19  lat                     17135 non-null  float64\n",
      " 20  long                    17135 non-null  float64\n",
      " 21  cos_month               17135 non-null  float64\n",
      " 22  day_count               17135 non-null  int64  \n",
      "dtypes: float64(11), int64(11), object(1)\n",
      "memory usage: 3.0+ MB\n"
     ]
    }
   ],
   "source": [
    "doc = '_cleaned_w_outlier_feat.csv'\n",
    "df = pd.read_csv('Data/train'+doc)\n",
    "df = df.dropna()\n",
    "df.info()"
   ]
  },
  {
   "cell_type": "code",
   "execution_count": 11,
   "metadata": {},
   "outputs": [
    {
     "name": "stdout",
     "output_type": "stream",
     "text": [
      "20\n"
     ]
    }
   ],
   "source": [
    "features = ['nb_chambres', 'm2_etage', 'nb_sdb', 'm2_interieur', 'm2_soussol','m2_jardin', 'nb_etages', 'vue_mer', 'vue_note', 'etat_note', 'design_note', 'annee_construction', 'annee_renovation', 'm2_interieur_15voisins', 'm2_jardin_15voisins', 'zipcode', 'lat', 'long', 'cos_month', 'day_count']\n",
    "X = df[features]\n",
    "print(len(features))\n",
    "y = df['prix']\n",
    "X_train, X_test, y_train, y_test = train_test_split(X, y, test_size=0.2, random_state=42)"
   ]
  },
  {
   "cell_type": "code",
   "execution_count": 12,
   "metadata": {},
   "outputs": [
    {
     "name": "stderr",
     "output_type": "stream",
     "text": [
      "C:\\Users\\Ponts\\AppData\\Local\\Packages\\PythonSoftwareFoundation.Python.3.11_qbz5n2kfra8p0\\LocalCache\\local-packages\\Python311\\site-packages\\sklearn\\linear_model\\_coordinate_descent.py:628: ConvergenceWarning: Objective did not converge. You might want to increase the number of iterations, check the scale of the features or consider increasing regularisation. Duality gap: 7.688e+12, tolerance: 1.850e+11\n",
      "  model = cd_fast.enet_coordinate_descent(\n"
     ]
    }
   ],
   "source": [
    "model_ridge = Ridge(alpha=1.0)\n",
    "\n",
    "model_lasso = Lasso(alpha=0.1)\n",
    "\n",
    "model_ridge.fit(X_train, y_train)\n",
    "model_lasso.fit(X_train, y_train)\n",
    "\n",
    "predictions_ridge = model_ridge.predict(X_test)\n",
    "predictions_lasso = model_lasso.predict(X_test)"
   ]
  },
  {
   "cell_type": "code",
   "execution_count": 13,
   "metadata": {},
   "outputs": [
    {
     "name": "stdout",
     "output_type": "stream",
     "text": [
      "Score Ridge : 0.7158983285815366\n",
      "Score Lasso : 0.7160306724701886\n"
     ]
    }
   ],
   "source": [
    "# Afficher les scores des modèles\n",
    "print(\"Score Ridge :\", model_ridge.score(X_test, y_test))\n",
    "print(\"Score Lasso :\", model_lasso.score(X_test, y_test))"
   ]
  },
  {
   "cell_type": "code",
   "execution_count": 16,
   "metadata": {},
   "outputs": [],
   "source": [
    "df_test = pd.read_csv('Data/test_cleaned_feat.csv')\n",
    "df_test = df_test.dropna()\n",
    "X_teste = df_test[features]\n",
    "\n",
    "# Faire des prédictions\n",
    "y_pred_ridge = model_ridge.predict(X_teste)\n",
    "y_pred_lasso = model_lasso.predict(X_teste)\n",
    "\n",
    "# Convertir les tableaux NumPy en DataFrame\n",
    "result_ridge = pd.DataFrame({'id': df_test['id'], 'prix': y_pred_ridge})\n",
    "result_lasso = pd.DataFrame({'id': df_test['id'], 'prix': y_pred_lasso})\n",
    "\n",
    "# Enregistrer les résultats en tant que fichiers CSV\n",
    "result_ridge.to_csv('Data/result_ridge.csv', index=False)\n",
    "result_lasso.to_csv('Data/result_lasso.csv', index=False)\n"
   ]
  }
 ],
 "metadata": {
  "kernelspec": {
   "display_name": "Python 3",
   "language": "python",
   "name": "python3"
  },
  "language_info": {
   "codemirror_mode": {
    "name": "ipython",
    "version": 3
   },
   "file_extension": ".py",
   "mimetype": "text/x-python",
   "name": "python",
   "nbconvert_exporter": "python",
   "pygments_lexer": "ipython3",
   "version": "3.11.9"
  }
 },
 "nbformat": 4,
 "nbformat_minor": 2
}
