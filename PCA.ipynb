{
 "cells": [
  {
   "cell_type": "markdown",
   "metadata": {},
   "source": [
    "### PCA"
   ]
  },
  {
   "cell_type": "code",
   "execution_count": 2,
   "metadata": {},
   "outputs": [],
   "source": [
    "import pandas as pd # Pour lire les fichiers\n",
    "import numpy as np # Pour effectuer des calculs mathématiques\n",
    "import matplotlib.pyplot as plt # Pour réaliser des graphiques\n",
    "from scipy import stats # Pour effectuer des calculs statistiques\n",
    "from sklearn.preprocessing import StandardScaler # Pour normaliser les données\n",
    "from sklearn import decomposition # Pour effectuer une ACP"
   ]
  },
  {
   "cell_type": "code",
   "execution_count": 21,
   "metadata": {},
   "outputs": [
    {
     "name": "stdout",
     "output_type": "stream",
     "text": [
      "          cos_month                  date\n",
      "0      8.660254e-01  2014-11-21T00:00:00Z\n",
      "1      5.000000e-01  2015-02-04T00:00:00Z\n",
      "2     -1.836970e-16  2014-09-17T00:00:00Z\n",
      "3      6.123234e-17  2015-03-13T00:00:00Z\n",
      "4     -1.000000e+00  2014-06-04T00:00:00Z\n",
      "...             ...                   ...\n",
      "17142 -1.000000e+00  2014-06-26T00:00:00Z\n",
      "17143  6.123234e-17  2015-03-11T00:00:00Z\n",
      "17144  6.123234e-17  2015-03-05T00:00:00Z\n",
      "17145 -1.000000e+00  2014-06-20T00:00:00Z\n",
      "17146  6.123234e-17  2015-03-26T00:00:00Z\n",
      "\n",
      "[17147 rows x 2 columns]\n"
     ]
    },
    {
     "data": {
      "text/html": [
       "<div>\n",
       "<style scoped>\n",
       "    .dataframe tbody tr th:only-of-type {\n",
       "        vertical-align: middle;\n",
       "    }\n",
       "\n",
       "    .dataframe tbody tr th {\n",
       "        vertical-align: top;\n",
       "    }\n",
       "\n",
       "    .dataframe thead th {\n",
       "        text-align: right;\n",
       "    }\n",
       "</style>\n",
       "<table border=\"1\" class=\"dataframe\">\n",
       "  <thead>\n",
       "    <tr style=\"text-align: right;\">\n",
       "      <th></th>\n",
       "      <th>nb_chambres</th>\n",
       "      <th>nb_sdb</th>\n",
       "      <th>m2_interieur</th>\n",
       "      <th>m2_jardin</th>\n",
       "      <th>m2_etage</th>\n",
       "    </tr>\n",
       "  </thead>\n",
       "  <tbody>\n",
       "    <tr>\n",
       "      <th>0</th>\n",
       "      <td>2</td>\n",
       "      <td>1.00</td>\n",
       "      <td>150.501672</td>\n",
       "      <td>360.460795</td>\n",
       "      <td>85.470085</td>\n",
       "    </tr>\n",
       "    <tr>\n",
       "      <th>1</th>\n",
       "      <td>2</td>\n",
       "      <td>1.00</td>\n",
       "      <td>117.985879</td>\n",
       "      <td>4046.822742</td>\n",
       "      <td>117.985879</td>\n",
       "    </tr>\n",
       "    <tr>\n",
       "      <th>2</th>\n",
       "      <td>2</td>\n",
       "      <td>2.75</td>\n",
       "      <td>147.714604</td>\n",
       "      <td>1943.236715</td>\n",
       "      <td>147.714604</td>\n",
       "    </tr>\n",
       "    <tr>\n",
       "      <th>3</th>\n",
       "      <td>3</td>\n",
       "      <td>1.75</td>\n",
       "      <td>215.533259</td>\n",
       "      <td>731.605351</td>\n",
       "      <td>150.501672</td>\n",
       "    </tr>\n",
       "    <tr>\n",
       "      <th>4</th>\n",
       "      <td>3</td>\n",
       "      <td>2.00</td>\n",
       "      <td>167.224080</td>\n",
       "      <td>1176.978818</td>\n",
       "      <td>167.224080</td>\n",
       "    </tr>\n",
       "    <tr>\n",
       "      <th>...</th>\n",
       "      <td>...</td>\n",
       "      <td>...</td>\n",
       "      <td>...</td>\n",
       "      <td>...</td>\n",
       "      <td>...</td>\n",
       "    </tr>\n",
       "    <tr>\n",
       "      <th>17142</th>\n",
       "      <td>4</td>\n",
       "      <td>2.75</td>\n",
       "      <td>267.558528</td>\n",
       "      <td>371.609067</td>\n",
       "      <td>195.094760</td>\n",
       "    </tr>\n",
       "    <tr>\n",
       "      <th>17143</th>\n",
       "      <td>3</td>\n",
       "      <td>1.75</td>\n",
       "      <td>143.069491</td>\n",
       "      <td>979.654404</td>\n",
       "      <td>143.069491</td>\n",
       "    </tr>\n",
       "    <tr>\n",
       "      <th>17144</th>\n",
       "      <td>3</td>\n",
       "      <td>1.75</td>\n",
       "      <td>148.643627</td>\n",
       "      <td>671.869194</td>\n",
       "      <td>148.643627</td>\n",
       "    </tr>\n",
       "    <tr>\n",
       "      <th>17145</th>\n",
       "      <td>4</td>\n",
       "      <td>2.50</td>\n",
       "      <td>189.520624</td>\n",
       "      <td>2023.504274</td>\n",
       "      <td>189.520624</td>\n",
       "    </tr>\n",
       "    <tr>\n",
       "      <th>17146</th>\n",
       "      <td>1</td>\n",
       "      <td>0.75</td>\n",
       "      <td>78.966927</td>\n",
       "      <td>520.252694</td>\n",
       "      <td>78.966927</td>\n",
       "    </tr>\n",
       "  </tbody>\n",
       "</table>\n",
       "<p>17147 rows × 5 columns</p>\n",
       "</div>"
      ],
      "text/plain": [
       "       nb_chambres  nb_sdb  m2_interieur    m2_jardin    m2_etage\n",
       "0                2    1.00    150.501672   360.460795   85.470085\n",
       "1                2    1.00    117.985879  4046.822742  117.985879\n",
       "2                2    2.75    147.714604  1943.236715  147.714604\n",
       "3                3    1.75    215.533259   731.605351  150.501672\n",
       "4                3    2.00    167.224080  1176.978818  167.224080\n",
       "...            ...     ...           ...          ...         ...\n",
       "17142            4    2.75    267.558528   371.609067  195.094760\n",
       "17143            3    1.75    143.069491   979.654404  143.069491\n",
       "17144            3    1.75    148.643627   671.869194  148.643627\n",
       "17145            4    2.50    189.520624  2023.504274  189.520624\n",
       "17146            1    0.75     78.966927   520.252694   78.966927\n",
       "\n",
       "[17147 rows x 5 columns]"
      ]
     },
     "execution_count": 21,
     "metadata": {},
     "output_type": "execute_result"
    }
   ],
   "source": [
    "data = pd.read_csv(\"Data/train_data.csv\", sep=\",\")\n",
    "data = data.drop(columns=[\"id\"])\n",
    "\n",
    "data['cos_month'] = np.cos((2*np.pi/12)*pd.to_datetime(data['date']).dt.month)\n",
    "print(data[['cos_month','date']])\n",
    "data = data.drop(columns=[\"date\"])\n",
    "data = data[['nb_chambres','nb_sdb','m2_interieur','m2_jardin','m2_etage']]\n",
    "data "
   ]
  },
  {
   "cell_type": "code",
   "execution_count": 27,
   "metadata": {},
   "outputs": [
    {
     "data": {
      "image/png": "[encoded data removed]",
      "text/plain": [
       "<Figure size 640x480 with 1 Axes>"
      ]
     },
     "metadata": {},
     "output_type": "display_data"
    }
   ],
   "source": [
    "pca = decomposition.PCA()\n",
    "pca.fit(data)\n",
    "plt.plot(range(1,6),pca.explained_variance_)\n",
    "plt.show()"
   ]
  },
  {
   "cell_type": "code",
   "execution_count": null,
   "metadata": {},
   "outputs": [],
   "source": []
  }
 ],
 "metadata": {
  "kernelspec": {
   "display_name": "ISDO",
   "language": "python",
   "name": "python3"
  },
  "language_info": {
   "codemirror_mode": {
    "name": "ipython",
    "version": 3
   },
   "file_extension": ".py",
   "mimetype": "text/x-python",
   "name": "python",
   "nbconvert_exporter": "python",
   "pygments_lexer": "ipython3",
   "version": "3.11.2"
  }
 },
 "nbformat": 4,
 "nbformat_minor": 2
}
